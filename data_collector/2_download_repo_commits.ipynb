{
 "cells": [
  {
   "cell_type": "markdown",
   "metadata": {
    "collapsed": false,
    "jupyter": {
     "outputs_hidden": false
    }
   },
   "source": [
    "# Cloning and Processing repos from GitHub"
   ]
  },
  {
   "cell_type": "code",
   "execution_count": null,
   "metadata": {
    "collapsed": false,
    "jupyter": {
     "outputs_hidden": false
    },
    "pycharm": {
     "is_executing": true
    }
   },
   "outputs": [],
   "source": [
    "%load_ext autoreload\n",
    "%autoreload 2\n",
    "import pandas as pd\n",
    "from tqdm import tqdm\n",
    "\n",
    "pd.options.display.float_format = \"{:.2f}\".format"
   ]
  },
  {
   "cell_type": "markdown",
   "metadata": {
    "collapsed": false,
    "jupyter": {
     "outputs_hidden": false
    }
   },
   "source": [
    "## Clone the repos from the filtered repos."
   ]
  },
  {
   "cell_type": "code",
   "execution_count": 40,
   "metadata": {
    "collapsed": false,
    "jupyter": {
     "outputs_hidden": false
    }
   },
   "outputs": [],
   "source": [
    "import pandas as pd\n",
    "import git\n",
    "from pathlib import Path\n",
    "import os\n",
    "from tqdm import tqdm\n",
    "import json\n",
    "from pydriller import Repository, ModificationType"
   ]
  },
  {
   "cell_type": "markdown",
   "metadata": {},
   "source": [
    "## Read repo names."
   ]
  },
  {
   "cell_type": "code",
   "execution_count": 41,
   "metadata": {},
   "outputs": [],
   "source": [
    "filtered_df = pd.read_json(\"./metadata/filtered_ghs_results_05_mar_2023.jsonl\", orient=\"records\", lines=True)"
   ]
  },
  {
   "cell_type": "code",
   "execution_count": 42,
   "metadata": {},
   "outputs": [],
   "source": [
    "import calendar\n",
    "import time\n",
    "import datetime\n",
    "import logging\n",
    "import jsonlines\n",
    "import os\n",
    "import shutil\n",
    "\n",
    "logger = logging.getLogger(\"clone_repo\")\n",
    "fh = logging.FileHandler(\"./logs/clone_repo.log\")\n",
    "fh.setLevel(logging.DEBUG)\n",
    "fh.setFormatter(logging.Formatter(\"%(asctime)s | %(levelname)s | %(message)s\"))\n",
    "logger.addHandler(fh)\n",
    "\n",
    "langs = ['Python', 'TypeScript', 'JavaScript']\n",
    "#langs = ['Java']\n",
    "\n",
    "filtered_df = filtered_df[filtered_df['mainLanguage'].isin(langs)]"
   ]
  },
  {
   "cell_type": "code",
   "execution_count": 43,
   "metadata": {},
   "outputs": [],
   "source": [
    "github_metadata_path = \"./metadata/cloned_repo_metadata.jsonl\"\n",
    "\n",
    "names = filtered_df[\"name\"].tolist()\n",
    "\n",
    "mainLanguages = filtered_df[\"mainLanguage\"].tolist()\n",
    "\n",
    "if os.path.exists(github_metadata_path):\n",
    "    with jsonlines.open(github_metadata_path, \"r\") as reader:\n",
    "        processed_names = set(line[\"name\"] for line in reader)\n",
    "    logger.info(f\"Already processed {len(processed_names)} repositories!\")\n",
    "    names = [name for name in names if name not in processed_names]\n",
    "    mainLanguages = [lang for name, lang in zip(names, mainLanguages) if name not in processed_names]\n",
    "    logger.info(f\"{len(names)} repositories left!\")\n",
    "else:\n",
    "    open(github_metadata_path, \"w\").close()"
   ]
  },
  {
   "cell_type": "code",
   "execution_count": 44,
   "metadata": {},
   "outputs": [
    {
     "name": "stderr",
     "output_type": "stream",
     "text": [
      "  2%|▏         | 30/1500 [10:47<23:25:34, 57.37s/it] "
     ]
    },
    {
     "name": "stdout",
     "output_type": "stream",
     "text": [
      "Cmd('git') failed due to: exit code(128)\n",
      "  cmdline: git clone -v -- https://github.com/lzwme/chatgpt-sites.git /Volumes/T7/data/repos/TypeScript/lzwme@chatgpt-sites\n",
      "  stderr: 'Cloning into '/Volumes/T7/data/repos/TypeScript/lzwme@chatgpt-sites'...\n",
      "fatal: could not read Username for 'https://github.com': Device not configured\n",
      "'\n"
     ]
    },
    {
     "name": "stderr",
     "output_type": "stream",
     "text": [
      "  9%|▊         | 128/1500 [19:18<52:43,  2.31s/it]  "
     ]
    },
    {
     "name": "stdout",
     "output_type": "stream",
     "text": [
      "Cmd('git') failed due to: exit code(128)\n",
      "  cmdline: git clone -v -- https://github.com/yesmore/inke.git /Volumes/T7/data/repos/TypeScript/yesmore@inke\n",
      "  stderr: 'Cloning into '/Volumes/T7/data/repos/TypeScript/yesmore@inke'...\n",
      "fatal: could not read Username for 'https://github.com': Device not configured\n",
      "'\n"
     ]
    },
    {
     "name": "stderr",
     "output_type": "stream",
     "text": [
      " 10%|█         | 152/1500 [21:05<6:55:45, 18.51s/it]"
     ]
    },
    {
     "name": "stdout",
     "output_type": "stream",
     "text": [
      "Cmd('git') failed due to: exit code(128)\n",
      "  cmdline: git clone -v -- https://github.com/uiwjs/react-login-page.git /Volumes/T7/data/repos/TypeScript/uiwjs@react-login-page\n",
      "  stderr: 'Cloning into '/Volumes/T7/data/repos/TypeScript/uiwjs@react-login-page'...\n",
      "POST git-upload-pack (gzip 1927 to 1030 bytes)\n",
      "error: RPC failed; curl 92 HTTP/2 stream 3 was not closed cleanly: CANCEL (err 8)\n",
      "fatal: the remote end hung up unexpectedly\n",
      "fatal: early EOF\n",
      "fatal: index-pack failed\n",
      "'\n"
     ]
    },
    {
     "name": "stderr",
     "output_type": "stream",
     "text": [
      " 12%|█▏        | 185/1500 [25:14<3:52:35, 10.61s/it]"
     ]
    },
    {
     "name": "stdout",
     "output_type": "stream",
     "text": [
      "Cmd('git') failed due to: exit code(128)\n",
      "  cmdline: git clone -v -- https://github.com/recursivelyai/copilotkit.git /Volumes/T7/data/repos/TypeScript/recursivelyai@copilotkit\n",
      "  stderr: 'Cloning into '/Volumes/T7/data/repos/TypeScript/recursivelyai@copilotkit'...\n",
      "POST git-upload-pack (gzip 11627 to 5873 bytes)\n",
      "error: RPC failed; curl 92 HTTP/2 stream 3 was not closed cleanly: CANCEL (err 8)\n",
      "fatal: the remote end hung up unexpectedly\n",
      "fatal: early EOF\n",
      "fatal: index-pack failed\n",
      "'\n"
     ]
    },
    {
     "name": "stderr",
     "output_type": "stream",
     "text": [
      " 13%|█▎        | 188/1500 [26:38<9:59:05, 27.40s/it]"
     ]
    },
    {
     "name": "stdout",
     "output_type": "stream",
     "text": [
      "Cmd('git') failed due to: exit code(128)\n",
      "  cmdline: git clone -v -- https://github.com/rgthree/rgthree-comfy.git /Volumes/T7/data/repos/TypeScript/rgthree@rgthree-comfy\n",
      "  stderr: 'Cloning into '/Volumes/T7/data/repos/TypeScript/rgthree@rgthree-comfy'...\n",
      "POST git-upload-pack (327 bytes)\n",
      "error: RPC failed; curl 18 Transferred a partial file\n",
      "fatal: the remote end hung up unexpectedly\n",
      "fatal: early EOF\n",
      "fatal: index-pack failed\n",
      "'\n"
     ]
    },
    {
     "name": "stderr",
     "output_type": "stream",
     "text": [
      " 13%|█▎        | 190/1500 [26:55<6:36:26, 18.16s/it]"
     ]
    },
    {
     "name": "stdout",
     "output_type": "stream",
     "text": [
      "Cmd('git') failed due to: exit code(128)\n",
      "  cmdline: git clone -v -- https://github.com/all-in-aigc/aiwallpaper.git /Volumes/T7/data/repos/TypeScript/all-in-aigc@aiwallpaper\n",
      "  stderr: 'Cloning into '/Volumes/T7/data/repos/TypeScript/all-in-aigc@aiwallpaper'...\n",
      "POST git-upload-pack (277 bytes)\n",
      "error: RPC failed; curl 92 HTTP/2 stream 3 was not closed cleanly: CANCEL (err 8)\n",
      "fatal: the remote end hung up unexpectedly\n",
      "fatal: early EOF\n",
      "fatal: index-pack failed\n",
      "'\n"
     ]
    },
    {
     "name": "stderr",
     "output_type": "stream",
     "text": [
      " 15%|█▌        | 225/1500 [30:40<3:02:55,  8.61s/it]"
     ]
    },
    {
     "name": "stdout",
     "output_type": "stream",
     "text": [
      "Cmd('git') failed due to: exit code(128)\n",
      "  cmdline: git clone -v -- https://github.com/douo/raycast-openai-translator.git /Volumes/T7/data/repos/TypeScript/douo@raycast-openai-translator\n",
      "  stderr: 'Cloning into '/Volumes/T7/data/repos/TypeScript/douo@raycast-openai-translator'...\n",
      "POST git-upload-pack (277 bytes)\n",
      "error: RPC failed; curl 92 HTTP/2 stream 3 was not closed cleanly: CANCEL (err 8)\n",
      "fatal: the remote end hung up unexpectedly\n",
      "fatal: early EOF\n",
      "fatal: index-pack failed\n",
      "'\n"
     ]
    },
    {
     "name": "stderr",
     "output_type": "stream",
     "text": [
      " 16%|█▌        | 238/1500 [32:18<2:39:49,  7.60s/it]"
     ]
    },
    {
     "name": "stdout",
     "output_type": "stream",
     "text": [
      "Cmd('git') failed due to: exit code(128)\n",
      "  cmdline: git clone -v -- https://github.com/google/aside.git /Volumes/T7/data/repos/TypeScript/google@aside\n",
      "  stderr: 'Cloning into '/Volumes/T7/data/repos/TypeScript/google@aside'...\n",
      "POST git-upload-pack (gzip 1177 to 638 bytes)\n",
      "error: RPC failed; curl 92 HTTP/2 stream 3 was not closed cleanly: CANCEL (err 8)\n",
      "fatal: the remote end hung up unexpectedly\n",
      "fatal: early EOF\n",
      "fatal: index-pack failed\n",
      "'\n"
     ]
    },
    {
     "name": "stderr",
     "output_type": "stream",
     "text": [
      " 22%|██▏       | 324/1500 [38:05<9:29:54, 29.08s/it]"
     ]
    },
    {
     "name": "stdout",
     "output_type": "stream",
     "text": [
      "Cmd('git') failed due to: exit code(128)\n",
      "  cmdline: git clone -v -- https://github.com/kumaaa-inc/shadow-panda.git /Volumes/T7/data/repos/TypeScript/kumaaa-inc@shadow-panda\n",
      "  stderr: 'Cloning into '/Volumes/T7/data/repos/TypeScript/kumaaa-inc@shadow-panda'...\n",
      "POST git-upload-pack (gzip 1627 to 876 bytes)\n",
      "error: RPC failed; curl 92 HTTP/2 stream 3 was not closed cleanly: CANCEL (err 8)\n",
      "fatal: the remote end hung up unexpectedly\n",
      "fatal: early EOF\n",
      "fatal: index-pack failed\n",
      "'\n"
     ]
    },
    {
     "name": "stderr",
     "output_type": "stream",
     "text": [
      " 23%|██▎       | 341/1500 [40:23<6:01:04, 18.69s/it]"
     ]
    },
    {
     "name": "stdout",
     "output_type": "stream",
     "text": [
      "Cmd('git') failed due to: exit code(128)\n",
      "  cmdline: git clone -v -- https://github.com/Enter-tainer/typst-preview.git /Volumes/T7/data/repos/TypeScript/Enter-tainer@typst-preview\n",
      "  stderr: 'Cloning into '/Volumes/T7/data/repos/TypeScript/Enter-tainer@typst-preview'...\n",
      "POST git-upload-pack (gzip 2777 to 1451 bytes)\n",
      "error: RPC failed; curl 92 HTTP/2 stream 3 was not closed cleanly: CANCEL (err 8)\n",
      "fatal: the remote end hung up unexpectedly\n",
      "fatal: early EOF\n",
      "fatal: index-pack failed\n",
      "'\n"
     ]
    },
    {
     "name": "stderr",
     "output_type": "stream",
     "text": [
      " 23%|██▎       | 344/1500 [41:50<10:23:57, 32.39s/it]"
     ]
    },
    {
     "name": "stdout",
     "output_type": "stream",
     "text": [
      "Cmd('git') failed due to: exit code(128)\n",
      "  cmdline: git clone -v -- https://github.com/geng-haoran/Simulately.git /Volumes/T7/data/repos/TypeScript/geng-haoran@Simulately\n",
      "  stderr: 'Cloning into '/Volumes/T7/data/repos/TypeScript/geng-haoran@Simulately'...\n",
      "POST git-upload-pack (277 bytes)\n",
      "error: RPC failed; curl 92 HTTP/2 stream 3 was not closed cleanly: CANCEL (err 8)\n",
      "fatal: the remote end hung up unexpectedly\n",
      "fatal: early EOF\n",
      "fatal: index-pack failed\n",
      "'\n"
     ]
    },
    {
     "name": "stderr",
     "output_type": "stream",
     "text": [
      " 23%|██▎       | 352/1500 [43:09<6:16:52, 19.70s/it] "
     ]
    },
    {
     "name": "stdout",
     "output_type": "stream",
     "text": [
      "Cmd('git') failed due to: exit code(128)\n",
      "  cmdline: git clone -v -- https://github.com/coconut-xr/natuerlich.git /Volumes/T7/data/repos/TypeScript/coconut-xr@natuerlich\n",
      "  stderr: 'Cloning into '/Volumes/T7/data/repos/TypeScript/coconut-xr@natuerlich'...\n",
      "POST git-upload-pack (327 bytes)\n",
      "error: RPC failed; curl 92 HTTP/2 stream 3 was not closed cleanly: CANCEL (err 8)\n",
      "fatal: the remote end hung up unexpectedly\n",
      "fatal: early EOF\n",
      "fatal: index-pack failed\n",
      "'\n"
     ]
    },
    {
     "name": "stderr",
     "output_type": "stream",
     "text": [
      " 24%|██▍       | 366/1500 [48:01<18:52:02, 59.90s/it]"
     ]
    },
    {
     "name": "stdout",
     "output_type": "stream",
     "text": [
      "Cmd('git') failed due to: exit code(128)\n",
      "  cmdline: git clone -v -- https://github.com/mlg404/palworld-paldex-api.git /Volumes/T7/data/repos/TypeScript/mlg404@palworld-paldex-api\n",
      "  stderr: 'Cloning into '/Volumes/T7/data/repos/TypeScript/mlg404@palworld-paldex-api'...\n",
      "POST git-upload-pack (427 bytes)\n",
      "error: RPC failed; curl 56 Recv failure: Connection reset by peer\n",
      "fatal: the remote end hung up unexpectedly\n",
      "fatal: early EOF\n",
      "fatal: index-pack failed\n",
      "'\n"
     ]
    },
    {
     "name": "stderr",
     "output_type": "stream",
     "text": [
      " 34%|███▍      | 513/1500 [1:06:16<5:12:17, 18.98s/it]"
     ]
    },
    {
     "name": "stdout",
     "output_type": "stream",
     "text": [
      "Cmd('git') failed due to: exit code(128)\n",
      "  cmdline: git clone -v -- https://github.com/chatchat-space/langchain-ChatGLM.git /Volumes/T7/data/repos/Python/chatchat-space@langchain-ChatGLM\n",
      "  stderr: 'Cloning into '/Volumes/T7/data/repos/Python/chatchat-space@langchain-ChatGLM'...\n",
      "POST git-upload-pack (gzip 1977 to 1053 bytes)\n",
      "error: RPC failed; curl 92 HTTP/2 stream 3 was not closed cleanly: CANCEL (err 8)\n",
      "fatal: the remote end hung up unexpectedly\n",
      "fatal: early EOF\n",
      "fatal: index-pack failed\n",
      "'\n"
     ]
    },
    {
     "name": "stderr",
     "output_type": "stream",
     "text": [
      " 35%|███▍      | 520/1500 [1:07:49<4:37:58, 17.02s/it]"
     ]
    },
    {
     "name": "stdout",
     "output_type": "stream",
     "text": [
      "Cmd('git') failed due to: exit code(128)\n",
      "  cmdline: git clone -v -- https://github.com/cumulo-autumn/StreamDiffusion.git /Volumes/T7/data/repos/Python/cumulo-autumn@StreamDiffusion\n",
      "  stderr: 'Cloning into '/Volumes/T7/data/repos/Python/cumulo-autumn@StreamDiffusion'...\n",
      "POST git-upload-pack (677 bytes)\n",
      "error: RPC failed; curl 92 HTTP/2 stream 3 was not closed cleanly: CANCEL (err 8)\n",
      "fatal: the remote end hung up unexpectedly\n",
      "fatal: early EOF\n",
      "fatal: index-pack failed\n",
      "'\n"
     ]
    },
    {
     "name": "stderr",
     "output_type": "stream",
     "text": [
      " 37%|███▋      | 551/1500 [1:14:35<6:44:41, 25.59s/it] "
     ]
    },
    {
     "name": "stdout",
     "output_type": "stream",
     "text": [
      "Cmd('git') failed due to: exit code(128)\n",
      "  cmdline: git clone -v -- https://github.com/hiyouga/LLaMA-Efficient-Tuning.git /Volumes/T7/data/repos/Python/hiyouga@LLaMA-Efficient-Tuning\n",
      "  stderr: 'Cloning into '/Volumes/T7/data/repos/Python/hiyouga@LLaMA-Efficient-Tuning'...\n",
      "POST git-upload-pack (gzip 1277 to 703 bytes)\n",
      "fatal: the remote end hung up unexpectedly\n",
      "fatal: early EOF\n",
      "fatal: index-pack failed\n",
      "'\n"
     ]
    },
    {
     "name": "stderr",
     "output_type": "stream",
     "text": [
      " 37%|███▋      | 557/1500 [1:16:25<7:59:23, 30.50s/it]"
     ]
    },
    {
     "name": "stdout",
     "output_type": "stream",
     "text": [
      "Cmd('git') failed due to: exit code(128)\n",
      "  cmdline: git clone -v -- https://github.com/ux-decoder/segment-everything-everywhere-all-at-once.git /Volumes/T7/data/repos/Python/ux-decoder@segment-everything-everywhere-all-at-once\n",
      "  stderr: 'Cloning into '/Volumes/T7/data/repos/Python/ux-decoder@segment-everything-everywhere-all-at-once'...\n",
      "POST git-upload-pack (327 bytes)\n",
      "error: RPC failed; curl 92 HTTP/2 stream 3 was not closed cleanly: CANCEL (err 8)\n",
      "fatal: the remote end hung up unexpectedly\n",
      "fatal: early EOF\n",
      "fatal: index-pack failed\n",
      "'\n"
     ]
    },
    {
     "name": "stderr",
     "output_type": "stream",
     "text": [
      " 41%|████      | 614/1500 [1:26:40<6:25:39, 26.12s/it]"
     ]
    },
    {
     "name": "stdout",
     "output_type": "stream",
     "text": [
      "Cmd('git') failed due to: exit code(128)\n",
      "  cmdline: git clone -v -- https://github.com/PKU-YuanGroup/Video-LLaVA.git /Volumes/T7/data/repos/Python/PKU-YuanGroup@Video-LLaVA\n",
      "  stderr: 'Cloning into '/Volumes/T7/data/repos/Python/PKU-YuanGroup@Video-LLaVA'...\n",
      "POST git-upload-pack (227 bytes)\n",
      "error: RPC failed; curl 18 Transferred a partial file\n",
      "fatal: the remote end hung up unexpectedly\n",
      "fatal: early EOF\n",
      "fatal: index-pack failed\n",
      "'\n"
     ]
    },
    {
     "name": "stderr",
     "output_type": "stream",
     "text": [
      " 41%|████      | 616/1500 [1:27:15<5:38:55, 23.00s/it]"
     ]
    },
    {
     "name": "stdout",
     "output_type": "stream",
     "text": [
      "Cmd('git') failed due to: exit code(128)\n",
      "  cmdline: git clone -v -- https://github.com/yzfly/LangGPT.git /Volumes/T7/data/repos/Python/yzfly@LangGPT\n",
      "  stderr: 'Cloning into '/Volumes/T7/data/repos/Python/yzfly@LangGPT'...\n",
      "POST git-upload-pack (227 bytes)\n",
      "error: RPC failed; curl 92 HTTP/2 stream 3 was not closed cleanly: CANCEL (err 8)\n",
      "fatal: the remote end hung up unexpectedly\n",
      "fatal: early EOF\n",
      "fatal: index-pack failed\n",
      "'\n"
     ]
    },
    {
     "name": "stderr",
     "output_type": "stream",
     "text": [
      " 42%|████▏     | 633/1500 [1:31:35<9:01:13, 37.46s/it]"
     ]
    },
    {
     "name": "stdout",
     "output_type": "stream",
     "text": [
      "Cmd('git') failed due to: exit code(128)\n",
      "  cmdline: git clone -v -- https://github.com/agiresearch/openagi.git /Volumes/T7/data/repos/Python/agiresearch@openagi\n",
      "  stderr: 'Cloning into '/Volumes/T7/data/repos/Python/agiresearch@openagi'...\n",
      "POST git-upload-pack (227 bytes)\n",
      "fatal: the remote end hung up unexpectedly\n",
      "fatal: early EOF\n",
      "fatal: index-pack failed\n",
      "'\n"
     ]
    },
    {
     "name": "stderr",
     "output_type": "stream",
     "text": [
      " 43%|████▎     | 640/1500 [1:34:45<10:44:57, 45.00s/it]"
     ]
    },
    {
     "name": "stdout",
     "output_type": "stream",
     "text": [
      "Cmd('git') failed due to: exit code(128)\n",
      "  cmdline: git clone -v -- https://github.com/101dotxyz/GPTeam.git /Volumes/T7/data/repos/Python/101dotxyz@GPTeam\n",
      "  stderr: 'Cloning into '/Volumes/T7/data/repos/Python/101dotxyz@GPTeam'...\n",
      "POST git-upload-pack (gzip 2427 to 1271 bytes)\n",
      "error: RPC failed; curl 18 Transferred a partial file\n",
      "fatal: the remote end hung up unexpectedly\n",
      "fatal: early EOF\n",
      "fatal: index-pack failed\n",
      "'\n"
     ]
    },
    {
     "name": "stderr",
     "output_type": "stream",
     "text": [
      " 44%|████▎     | 655/1500 [1:39:20<13:18:03, 56.67s/it]"
     ]
    },
    {
     "name": "stdout",
     "output_type": "stream",
     "text": [
      "Cmd('git') failed due to: exit code(128)\n",
      "  cmdline: git clone -v -- https://github.com/barry-far/V2ray-Configs.git /Volumes/T7/data/repos/Python/barry-far@V2ray-Configs\n",
      "  stderr: 'Cloning into '/Volumes/T7/data/repos/Python/barry-far@V2ray-Configs'...\n",
      "POST git-upload-pack (227 bytes)\n",
      "error: RPC failed; curl 18 Transferred a partial file\n",
      "fatal: the remote end hung up unexpectedly\n",
      "fatal: early EOF\n",
      "fatal: index-pack failed\n",
      "'\n"
     ]
    },
    {
     "name": "stderr",
     "output_type": "stream",
     "text": [
      " 44%|████▍     | 660/1500 [1:41:14<8:27:51, 36.28s/it] "
     ]
    },
    {
     "name": "stdout",
     "output_type": "stream",
     "text": [
      "Cmd('git') failed due to: exit code(128)\n",
      "  cmdline: git clone -v -- https://github.com/fudan-zvg/semantic-segment-anything.git /Volumes/T7/data/repos/Python/fudan-zvg@semantic-segment-anything\n",
      "  stderr: 'Cloning into '/Volumes/T7/data/repos/Python/fudan-zvg@semantic-segment-anything'...\n",
      "POST git-upload-pack (177 bytes)\n",
      "error: RPC failed; curl 18 Transferred a partial file\n",
      "fatal: the remote end hung up unexpectedly\n",
      "fatal: early EOF\n",
      "fatal: index-pack failed\n",
      "'\n"
     ]
    },
    {
     "name": "stderr",
     "output_type": "stream",
     "text": [
      " 45%|████▌     | 681/1500 [1:45:11<3:22:19, 14.82s/it]"
     ]
    },
    {
     "name": "stdout",
     "output_type": "stream",
     "text": [
      "Cmd('git') failed due to: exit code(128)\n",
      "  cmdline: git clone -v -- https://github.com/zwq2018/data-copilot.git /Volumes/T7/data/repos/Python/zwq2018@data-copilot\n",
      "  stderr: 'Cloning into '/Volumes/T7/data/repos/Python/zwq2018@data-copilot'...\n",
      "POST git-upload-pack (177 bytes)\n",
      "Downloading assets/video1.GIF (30 MB)\n",
      "Error downloading object: assets/video1.GIF (bbd30a8): Smudge error: Error downloading assets/video1.GIF (bbd30a8179ecb7f7173ae6857ebeb536a7f66a176f67596f1728be418cf9ea73): batch response: This repository is over its data quota. Account responsible for LFS bandwidth should purchase more data packs to restore access.\n",
      "\n",
      "Errors logged to '/Volumes/T7/data/repos/Python/zwq2018@data-copilot/.git/lfs/logs/20240406T003819.012055.log'.\n",
      "Use `git lfs logs last` to view the log.\n",
      "error: external filter 'git-lfs filter-process' failed\n",
      "fatal: assets/video1.GIF: smudge filter lfs failed\n",
      "warning: Clone succeeded, but checkout failed.\n",
      "You can inspect what was checked out with 'git status'\n",
      "and retry with 'git restore --source=HEAD :/'\n",
      "\n",
      "'\n"
     ]
    },
    {
     "name": "stderr",
     "output_type": "stream",
     "text": [
      " 54%|█████▎    | 804/1500 [2:01:28<3:03:27, 15.81s/it] "
     ]
    },
    {
     "name": "stdout",
     "output_type": "stream",
     "text": [
      "Cmd('git') failed due to: exit code(128)\n",
      "  cmdline: git clone -v -- https://github.com/taichi-dev/taichi-nerfs.git /Volumes/T7/data/repos/Python/taichi-dev@taichi-nerfs\n",
      "  stderr: 'Cloning into '/Volumes/T7/data/repos/Python/taichi-dev@taichi-nerfs'...\n",
      "POST git-upload-pack (227 bytes)\n",
      "error: RPC failed; curl 92 HTTP/2 stream 3 was not closed cleanly: CANCEL (err 8)\n",
      "fatal: the remote end hung up unexpectedly\n",
      "fatal: early EOF\n",
      "fatal: index-pack failed\n",
      "'\n"
     ]
    },
    {
     "name": "stderr",
     "output_type": "stream",
     "text": [
      " 54%|█████▍    | 817/1500 [2:05:23<6:01:01, 31.72s/it]"
     ]
    },
    {
     "name": "stdout",
     "output_type": "stream",
     "text": [
      "Cmd('git') failed due to: exit code(128)\n",
      "  cmdline: git clone -v -- https://github.com/TencentARC/MotionCtrl.git /Volumes/T7/data/repos/Python/TencentARC@MotionCtrl\n",
      "  stderr: 'Cloning into '/Volumes/T7/data/repos/Python/TencentARC@MotionCtrl'...\n",
      "POST git-upload-pack (227 bytes)\n",
      "fatal: the remote end hung up unexpectedly\n",
      "fatal: early EOF\n",
      "fatal: index-pack failed\n",
      "'\n"
     ]
    },
    {
     "name": "stderr",
     "output_type": "stream",
     "text": [
      " 56%|█████▋    | 846/1500 [2:12:27<3:18:39, 18.23s/it]"
     ]
    },
    {
     "name": "stdout",
     "output_type": "stream",
     "text": [
      "Cmd('git') failed due to: exit code(128)\n",
      "  cmdline: git clone -v -- https://github.com/mattyamonaca/layerdivider.git /Volumes/T7/data/repos/Python/mattyamonaca@layerdivider\n",
      "  stderr: 'Cloning into '/Volumes/T7/data/repos/Python/mattyamonaca@layerdivider'...\n",
      "POST git-upload-pack (277 bytes)\n",
      "error: RPC failed; curl 18 Transferred a partial file\n",
      "fatal: the remote end hung up unexpectedly\n",
      "fatal: early EOF\n",
      "fatal: index-pack failed\n",
      "'\n"
     ]
    },
    {
     "name": "stderr",
     "output_type": "stream",
     "text": [
      " 62%|██████▏   | 936/1500 [2:26:08<30:47,  3.28s/it]   "
     ]
    },
    {
     "name": "stdout",
     "output_type": "stream",
     "text": [
      "Cmd('git') failed due to: exit code(128)\n",
      "  cmdline: git clone -v -- https://github.com/opencopilotdev/opencopilot.git /Volumes/T7/data/repos/Python/opencopilotdev@opencopilot\n",
      "  stderr: 'Cloning into '/Volumes/T7/data/repos/Python/opencopilotdev@opencopilot'...\n",
      "fatal: could not read Username for 'https://github.com': Device not configured\n",
      "'\n"
     ]
    },
    {
     "name": "stderr",
     "output_type": "stream",
     "text": [
      " 66%|██████▌   | 989/1500 [2:33:25<1:26:15, 10.13s/it]"
     ]
    },
    {
     "name": "stdout",
     "output_type": "stream",
     "text": [
      "Cmd('git') failed due to: exit code(128)\n",
      "  cmdline: git clone -v -- https://github.com/madaan/self-refine.git /Volumes/T7/data/repos/Python/madaan@self-refine\n",
      "  stderr: 'Cloning into '/Volumes/T7/data/repos/Python/madaan@self-refine'...\n",
      "POST git-upload-pack (227 bytes)\n",
      "error: RPC failed; curl 92 HTTP/2 stream 3 was not closed cleanly: CANCEL (err 8)\n",
      "fatal: the remote end hung up unexpectedly\n",
      "fatal: early EOF\n",
      "fatal: index-pack failed\n",
      "'\n"
     ]
    },
    {
     "name": "stderr",
     "output_type": "stream",
     "text": [
      " 66%|██████▋   | 995/1500 [2:37:33<9:59:33, 71.24s/it]"
     ]
    },
    {
     "name": "stdout",
     "output_type": "stream",
     "text": [
      "Cmd('git') failed due to: exit code(128)\n",
      "  cmdline: git clone -v -- https://github.com/RaymondWang987/NVDS.git /Volumes/T7/data/repos/Python/RaymondWang987@NVDS\n",
      "  stderr: 'Cloning into '/Volumes/T7/data/repos/Python/RaymondWang987@NVDS'...\n",
      "POST git-upload-pack (327 bytes)\n",
      "error: RPC failed; curl 92 HTTP/2 stream 3 was not closed cleanly: CANCEL (err 8)\n",
      "fatal: the remote end hung up unexpectedly\n",
      "fatal: early EOF\n",
      "fatal: index-pack failed\n",
      "'\n"
     ]
    },
    {
     "name": "stderr",
     "output_type": "stream",
     "text": [
      " 69%|██████▉   | 1032/1500 [2:48:13<8:33:37, 65.85s/it]"
     ]
    },
    {
     "name": "stdout",
     "output_type": "stream",
     "text": [
      "Cmd('git') failed due to: exit code(128)\n",
      "  cmdline: git clone -v -- https://github.com/badlogic/heissepreise.git /Volumes/T7/data/repos/JavaScript/badlogic@heissepreise\n",
      "  stderr: 'Cloning into '/Volumes/T7/data/repos/JavaScript/badlogic@heissepreise'...\n",
      "POST git-upload-pack (227 bytes)\n",
      "error: RPC failed; curl 92 HTTP/2 stream 3 was not closed cleanly: CANCEL (err 8)\n",
      "fatal: the remote end hung up unexpectedly\n",
      "fatal: early EOF\n",
      "fatal: index-pack failed\n",
      "'\n"
     ]
    },
    {
     "name": "stderr",
     "output_type": "stream",
     "text": [
      " 70%|███████   | 1055/1500 [2:51:02<2:48:12, 22.68s/it]"
     ]
    },
    {
     "name": "stdout",
     "output_type": "stream",
     "text": [
      "Cmd('git') failed due to: exit code(128)\n",
      "  cmdline: git clone -v -- https://github.com/underpig1/octos.git /Volumes/T7/data/repos/JavaScript/underpig1@octos\n",
      "  stderr: 'Cloning into '/Volumes/T7/data/repos/JavaScript/underpig1@octos'...\n",
      "POST git-upload-pack (277 bytes)\n",
      "error: RPC failed; curl 92 HTTP/2 stream 3 was not closed cleanly: CANCEL (err 8)\n",
      "fatal: the remote end hung up unexpectedly\n",
      "fatal: early EOF\n",
      "fatal: index-pack failed\n",
      "'\n"
     ]
    },
    {
     "name": "stderr",
     "output_type": "stream",
     "text": [
      " 75%|███████▌  | 1126/1500 [3:02:24<59:31,  9.55s/it]  "
     ]
    },
    {
     "name": "stdout",
     "output_type": "stream",
     "text": [
      "Cmd('git') failed due to: exit code(128)\n",
      "  cmdline: git clone -v -- https://github.com/truethari/reactfolio.git /Volumes/T7/data/repos/JavaScript/truethari@reactfolio\n",
      "  stderr: 'Cloning into '/Volumes/T7/data/repos/JavaScript/truethari@reactfolio'...\n",
      "POST git-upload-pack (327 bytes)\n",
      "error: RPC failed; curl 92 HTTP/2 stream 3 was not closed cleanly: CANCEL (err 8)\n",
      "fatal: the remote end hung up unexpectedly\n",
      "fatal: early EOF\n",
      "fatal: index-pack failed\n",
      "'\n"
     ]
    },
    {
     "name": "stderr",
     "output_type": "stream",
     "text": [
      " 76%|███████▌  | 1137/1500 [3:03:06<45:54,  7.59s/it]"
     ]
    },
    {
     "name": "stdout",
     "output_type": "stream",
     "text": [
      "Cmd('git') failed due to: exit code(128)\n",
      "  cmdline: git clone -v -- https://github.com/barqawiz/intellinode.git /Volumes/T7/data/repos/JavaScript/barqawiz@intellinode\n",
      "  stderr: 'Cloning into '/Volumes/T7/data/repos/JavaScript/barqawiz@intellinode'...\n",
      "POST git-upload-pack (gzip 3177 to 1600 bytes)\n",
      "error: RPC failed; curl 92 HTTP/2 stream 3 was not closed cleanly: CANCEL (err 8)\n",
      "fatal: the remote end hung up unexpectedly\n",
      "fatal: early EOF\n",
      "fatal: index-pack failed\n",
      "'\n"
     ]
    },
    {
     "name": "stderr",
     "output_type": "stream",
     "text": [
      " 77%|███████▋  | 1153/1500 [3:05:48<1:52:47, 19.50s/it]"
     ]
    },
    {
     "name": "stdout",
     "output_type": "stream",
     "text": [
      "Cmd('git') failed due to: exit code(128)\n",
      "  cmdline: git clone -v -- https://github.com/WenqiOfficial/StudyWithMiku.git /Volumes/T7/data/repos/JavaScript/WenqiOfficial@StudyWithMiku\n",
      "  stderr: 'Cloning into '/Volumes/T7/data/repos/JavaScript/WenqiOfficial@StudyWithMiku'...\n",
      "POST git-upload-pack (227 bytes)\n",
      "error: RPC failed; curl 92 HTTP/2 stream 3 was not closed cleanly: CANCEL (err 8)\n",
      "fatal: the remote end hung up unexpectedly\n",
      "fatal: early EOF\n",
      "fatal: index-pack failed\n",
      "'\n"
     ]
    },
    {
     "name": "stderr",
     "output_type": "stream",
     "text": [
      " 78%|███████▊  | 1166/1500 [3:07:23<1:01:37, 11.07s/it]"
     ]
    },
    {
     "name": "stdout",
     "output_type": "stream",
     "text": [
      "Cmd('git') failed due to: exit code(128)\n",
      "  cmdline: git clone -v -- https://github.com/quadjr/aframe-gaussian-splatting.git /Volumes/T7/data/repos/JavaScript/quadjr@aframe-gaussian-splatting\n",
      "  stderr: 'Cloning into '/Volumes/T7/data/repos/JavaScript/quadjr@aframe-gaussian-splatting'...\n",
      "POST git-upload-pack (177 bytes)\n",
      "error: RPC failed; curl 92 HTTP/2 stream 3 was not closed cleanly: CANCEL (err 8)\n",
      "fatal: the remote end hung up unexpectedly\n",
      "fatal: early EOF\n",
      "fatal: index-pack failed\n",
      "'\n"
     ]
    },
    {
     "name": "stderr",
     "output_type": "stream",
     "text": [
      " 82%|████████▏ | 1230/1500 [3:18:51<1:30:38, 20.14s/it]"
     ]
    },
    {
     "name": "stdout",
     "output_type": "stream",
     "text": [
      "Cmd('git') failed due to: exit code(128)\n",
      "  cmdline: git clone -v -- https://github.com/ssitvit/code-canvas.git /Volumes/T7/data/repos/JavaScript/ssitvit@code-canvas\n",
      "  stderr: 'Cloning into '/Volumes/T7/data/repos/JavaScript/ssitvit@code-canvas'...\n",
      "POST git-upload-pack (277 bytes)\n",
      "error: RPC failed; curl 56 Recv failure: Connection reset by peer\n",
      "fatal: the remote end hung up unexpectedly\n",
      "fatal: early EOF\n",
      "fatal: index-pack failed\n",
      "'\n"
     ]
    },
    {
     "name": "stderr",
     "output_type": "stream",
     "text": [
      " 83%|████████▎ | 1252/1500 [3:22:51<1:37:25, 23.57s/it]"
     ]
    },
    {
     "name": "stdout",
     "output_type": "stream",
     "text": [
      "Cmd('git') failed due to: exit code(128)\n",
      "  cmdline: git clone -v -- https://github.com/enhance-dev/enhance-music.git /Volumes/T7/data/repos/JavaScript/enhance-dev@enhance-music\n",
      "  stderr: 'Cloning into '/Volumes/T7/data/repos/JavaScript/enhance-dev@enhance-music'...\n",
      "POST git-upload-pack (877 bytes)\n",
      "error: RPC failed; curl 18 Transferred a partial file\n",
      "fatal: the remote end hung up unexpectedly\n",
      "fatal: early EOF\n",
      "fatal: index-pack failed\n",
      "'\n"
     ]
    },
    {
     "name": "stderr",
     "output_type": "stream",
     "text": [
      " 84%|████████▍ | 1258/1500 [3:24:18<1:30:16, 22.38s/it]"
     ]
    },
    {
     "name": "stdout",
     "output_type": "stream",
     "text": [
      "Cmd('git') failed due to: exit code(128)\n",
      "  cmdline: git clone -v -- https://github.com/uba-gcoen/stichhub.git /Volumes/T7/data/repos/JavaScript/uba-gcoen@stichhub\n",
      "  stderr: 'Cloning into '/Volumes/T7/data/repos/JavaScript/uba-gcoen@stichhub'...\n",
      "POST git-upload-pack (777 bytes)\n",
      "error: RPC failed; curl 18 Transferred a partial file\n",
      "fatal: the remote end hung up unexpectedly\n",
      "fatal: early EOF\n",
      "fatal: index-pack failed\n",
      "'\n"
     ]
    },
    {
     "name": "stderr",
     "output_type": "stream",
     "text": [
      " 89%|████████▊ | 1329/1500 [3:32:47<51:33, 18.09s/it]  "
     ]
    },
    {
     "name": "stdout",
     "output_type": "stream",
     "text": [
      "Cmd('git') failed due to: exit code(128)\n",
      "  cmdline: git clone -v -- https://github.com/mywebshortcuts/mywebshortcuts.git /Volumes/T7/data/repos/JavaScript/mywebshortcuts@mywebshortcuts\n",
      "  stderr: 'Cloning into '/Volumes/T7/data/repos/JavaScript/mywebshortcuts@mywebshortcuts'...\n",
      "POST git-upload-pack (427 bytes)\n",
      "error: RPC failed; curl 18 Transferred a partial file\n",
      "fatal: the remote end hung up unexpectedly\n",
      "fatal: early EOF\n",
      "fatal: index-pack failed\n",
      "'\n"
     ]
    },
    {
     "name": "stderr",
     "output_type": "stream",
     "text": [
      " 89%|████████▊ | 1330/1500 [3:32:47<36:20, 12.83s/it]"
     ]
    },
    {
     "name": "stdout",
     "output_type": "stream",
     "text": [
      "Cmd('git') failed due to: exit code(128)\n",
      "  cmdline: git clone -v -- https://github.com/mopfasrfga/officehack.git /Volumes/T7/data/repos/JavaScript/mopfasrfga@officehack\n",
      "  stderr: 'Cloning into '/Volumes/T7/data/repos/JavaScript/mopfasrfga@officehack'...\n",
      "fatal: could not read Username for 'https://github.com': Device not configured\n",
      "'\n"
     ]
    },
    {
     "name": "stderr",
     "output_type": "stream",
     "text": [
      " 90%|█████████ | 1357/1500 [3:41:30<43:06, 18.09s/it]   "
     ]
    },
    {
     "name": "stdout",
     "output_type": "stream",
     "text": [
      "Cmd('git') failed due to: exit code(128)\n",
      "  cmdline: git clone -v -- https://github.com/oslabs-beta/netpulse.git /Volumes/T7/data/repos/JavaScript/oslabs-beta@netpulse\n",
      "  stderr: 'Cloning into '/Volumes/T7/data/repos/JavaScript/oslabs-beta@netpulse'...\n",
      "POST git-upload-pack (577 bytes)\n",
      "error: RPC failed; curl 92 HTTP/2 stream 3 was not closed cleanly: CANCEL (err 8)\n",
      "fatal: the remote end hung up unexpectedly\n",
      "fatal: early EOF\n",
      "fatal: index-pack failed\n",
      "'\n"
     ]
    },
    {
     "name": "stderr",
     "output_type": "stream",
     "text": [
      " 91%|█████████ | 1367/1500 [3:45:02<1:46:10, 47.90s/it]"
     ]
    },
    {
     "name": "stdout",
     "output_type": "stream",
     "text": [
      "Cmd('git') failed due to: exit code(128)\n",
      "  cmdline: git clone -v -- https://github.com/star3am/hashiqube.git /Volumes/T7/data/repos/JavaScript/star3am@hashiqube\n",
      "  stderr: 'Cloning into '/Volumes/T7/data/repos/JavaScript/star3am@hashiqube'...\n",
      "POST git-upload-pack (gzip 2977 to 1528 bytes)\n",
      "error: RPC failed; curl 18 Transferred a partial file\n",
      "fatal: the remote end hung up unexpectedly\n",
      "fatal: early EOF\n",
      "fatal: index-pack failed\n",
      "'\n"
     ]
    },
    {
     "name": "stderr",
     "output_type": "stream",
     "text": [
      " 94%|█████████▍| 1413/1500 [3:51:14<41:59, 28.97s/it]  "
     ]
    },
    {
     "name": "stdout",
     "output_type": "stream",
     "text": [
      "Cmd('git') failed due to: exit code(128)\n",
      "  cmdline: git clone -v -- https://github.com/bouzidanas/streamlit-code-editor.git /Volumes/T7/data/repos/JavaScript/bouzidanas@streamlit-code-editor\n",
      "  stderr: 'Cloning into '/Volumes/T7/data/repos/JavaScript/bouzidanas@streamlit-code-editor'...\n",
      "POST git-upload-pack (577 bytes)\n",
      "error: RPC failed; curl 56 Recv failure: Connection reset by peer\n",
      "fatal: the remote end hung up unexpectedly\n",
      "fatal: early EOF\n",
      "fatal: index-pack failed\n",
      "'\n"
     ]
    },
    {
     "name": "stderr",
     "output_type": "stream",
     "text": [
      " 95%|█████████▍| 1419/1500 [3:52:14<24:29, 18.14s/it]"
     ]
    },
    {
     "name": "stdout",
     "output_type": "stream",
     "text": [
      "Cmd('git') failed due to: exit code(128)\n",
      "  cmdline: git clone -v -- https://github.com/andrewwoan/PSU-VR.git /Volumes/T7/data/repos/JavaScript/andrewwoan@PSU-VR\n",
      "  stderr: 'Cloning into '/Volumes/T7/data/repos/JavaScript/andrewwoan@PSU-VR'...\n",
      "POST git-upload-pack (327 bytes)\n",
      "error: RPC failed; curl 18 Transferred a partial file\n",
      "fatal: the remote end hung up unexpectedly\n",
      "fatal: early EOF\n",
      "fatal: index-pack failed\n",
      "'\n"
     ]
    },
    {
     "name": "stderr",
     "output_type": "stream",
     "text": [
      " 96%|█████████▌| 1440/1500 [3:54:21<19:47, 19.79s/it]"
     ]
    },
    {
     "name": "stdout",
     "output_type": "stream",
     "text": [
      "Cmd('git') failed due to: exit code(128)\n",
      "  cmdline: git clone -v -- https://github.com/Kritika30032002/ReactCreations.git /Volumes/T7/data/repos/JavaScript/Kritika30032002@ReactCreations\n",
      "  stderr: 'Cloning into '/Volumes/T7/data/repos/JavaScript/Kritika30032002@ReactCreations'...\n",
      "POST git-upload-pack (177 bytes)\n",
      "error: RPC failed; curl 92 HTTP/2 stream 3 was not closed cleanly: CANCEL (err 8)\n",
      "fatal: the remote end hung up unexpectedly\n",
      "fatal: early EOF\n",
      "fatal: index-pack failed\n",
      "'\n"
     ]
    },
    {
     "name": "stderr",
     "output_type": "stream",
     "text": [
      " 96%|█████████▋| 1445/1500 [3:55:48<20:59, 22.89s/it]"
     ]
    },
    {
     "name": "stdout",
     "output_type": "stream",
     "text": [
      "Cmd('git') failed due to: exit code(128)\n",
      "  cmdline: git clone -v -- https://github.com/hellovivian/generative-disco.git /Volumes/T7/data/repos/JavaScript/hellovivian@generative-disco\n",
      "  stderr: 'Cloning into '/Volumes/T7/data/repos/JavaScript/hellovivian@generative-disco'...\n",
      "POST git-upload-pack (477 bytes)\n",
      "error: RPC failed; curl 56 Recv failure: Connection reset by peer\n",
      "fatal: the remote end hung up unexpectedly\n",
      "fatal: early EOF\n",
      "fatal: index-pack failed\n",
      "'\n"
     ]
    },
    {
     "name": "stderr",
     "output_type": "stream",
     "text": [
      " 97%|█████████▋| 1456/1500 [3:57:21<04:31,  6.16s/it]"
     ]
    },
    {
     "name": "stdout",
     "output_type": "stream",
     "text": [
      "Cmd('git') failed due to: exit code(128)\n",
      "  cmdline: git clone -v -- https://github.com/pythagora-io/api.git /Volumes/T7/data/repos/JavaScript/pythagora-io@api\n",
      "  stderr: 'Cloning into '/Volumes/T7/data/repos/JavaScript/pythagora-io@api'...\n",
      "fatal: could not read Username for 'https://github.com': Device not configured\n",
      "'\n"
     ]
    },
    {
     "name": "stderr",
     "output_type": "stream",
     "text": [
      " 98%|█████████▊| 1467/1500 [3:59:41<07:34, 13.78s/it]"
     ]
    },
    {
     "name": "stdout",
     "output_type": "stream",
     "text": [
      "Cmd('git') failed due to: exit code(128)\n",
      "  cmdline: git clone -v -- https://github.com/wladradchenko/radio.wladradchenko.ru.git /Volumes/T7/data/repos/JavaScript/wladradchenko@radio.wladradchenko.ru\n",
      "  stderr: 'Cloning into '/Volumes/T7/data/repos/JavaScript/wladradchenko@radio.wladradchenko.ru'...\n",
      "POST git-upload-pack (477 bytes)\n",
      "error: RPC failed; curl 92 HTTP/2 stream 3 was not closed cleanly: CANCEL (err 8)\n",
      "fatal: the remote end hung up unexpectedly\n",
      "fatal: early EOF\n",
      "fatal: index-pack failed\n",
      "'\n"
     ]
    },
    {
     "name": "stderr",
     "output_type": "stream",
     "text": [
      " 99%|█████████▉| 1489/1500 [4:03:16<05:50, 31.90s/it]"
     ]
    },
    {
     "name": "stdout",
     "output_type": "stream",
     "text": [
      "Cmd('git') failed due to: exit code(128)\n",
      "  cmdline: git clone -v -- https://github.com/miguelmyers8/PlanetTechJS.git /Volumes/T7/data/repos/JavaScript/miguelmyers8@PlanetTechJS\n",
      "  stderr: 'Cloning into '/Volumes/T7/data/repos/JavaScript/miguelmyers8@PlanetTechJS'...\n",
      "POST git-upload-pack (677 bytes)\n",
      "error: RPC failed; curl 92 HTTP/2 stream 3 was not closed cleanly: CANCEL (err 8)\n",
      "fatal: the remote end hung up unexpectedly\n",
      "fatal: early EOF\n",
      "fatal: index-pack failed\n",
      "'\n"
     ]
    },
    {
     "name": "stderr",
     "output_type": "stream",
     "text": [
      "100%|██████████| 1500/1500 [4:03:58<00:00,  9.76s/it]\n"
     ]
    }
   ],
   "source": [
    "cur_chunk = []\n",
    "chunksize = 20\n",
    "\n",
    "output_path = '/Volumes/T7/data/repos/'\n",
    "\n",
    "for lang in langs:\n",
    "    Path(output_path + lang).mkdir(parents=True, exist_ok=True)\n",
    "\n",
    "for id, repo_name in tqdm(enumerate(names), total=len(names)):\n",
    "    try:\n",
    "        lang = mainLanguages[id]\n",
    "        url = f'https://github.com/{repo_name}.git'\n",
    "        logger.info(f'Cloning repository at {url}.')\n",
    "        local_path = os.path.join(output_path + lang, repo_name.replace(\"/\", \"@\"))\n",
    "\n",
    "        if os.path.exists(local_path):\n",
    "            logger.info(f\"{local_path} already exists. remove!!!\")\n",
    "            shutil.rmtree(local_path)\n",
    "\n",
    "        r = git.Repo.clone_from(url, local_path)\n",
    "        sha = r.rev_parse('HEAD').hexsha\n",
    "        data = {\n",
    "            \"name\": repo_name,\n",
    "            \"mainLanguage\": lang,\n",
    "            \"url\": url,\n",
    "            \"local_path\": local_path,\n",
    "            \"sha\": sha\n",
    "        }\n",
    "    except Exception as e:\n",
    "        print(e)\n",
    "        logger.warning(f\"GitHub exception with repo {repo_name}, {repr(e)}\")\n",
    "        data = {\"name\": repo_name, \"mainLanguage\": lang, \"url\": url, \"local_path\": None, \"sha\": None}\n",
    "\n",
    "    cur_chunk.append(data)\n",
    "    if len(cur_chunk) > chunksize:\n",
    "        with jsonlines.open(github_metadata_path, \"a\") as writer:\n",
    "            writer.write_all(cur_chunk)\n",
    "            cur_chunk = []\n",
    "\n",
    "if cur_chunk:\n",
    "    with jsonlines.open(github_metadata_path, \"a\") as writer:\n",
    "        writer.write_all(cur_chunk)\n",
    "        cur_chunk = []"
   ]
  },
  {
   "cell_type": "markdown",
   "metadata": {},
   "source": [
    "Merge with searched Data."
   ]
  },
  {
   "cell_type": "code",
   "execution_count": 45,
   "metadata": {},
   "outputs": [
    {
     "data": {
      "text/html": [
       "<div>\n",
       "<style scoped>\n",
       "    .dataframe tbody tr th:only-of-type {\n",
       "        vertical-align: middle;\n",
       "    }\n",
       "\n",
       "    .dataframe tbody tr th {\n",
       "        vertical-align: top;\n",
       "    }\n",
       "\n",
       "    .dataframe thead th {\n",
       "        text-align: right;\n",
       "    }\n",
       "</style>\n",
       "<table border=\"1\" class=\"dataframe\">\n",
       "  <thead>\n",
       "    <tr style=\"text-align: right;\">\n",
       "      <th></th>\n",
       "      <th>name</th>\n",
       "      <th>mainLanguage</th>\n",
       "      <th>url</th>\n",
       "      <th>local_path</th>\n",
       "      <th>sha</th>\n",
       "    </tr>\n",
       "  </thead>\n",
       "  <tbody>\n",
       "    <tr>\n",
       "      <th>0</th>\n",
       "      <td>brunodev85/winlator</td>\n",
       "      <td>Java</td>\n",
       "      <td>https://github.com/brunodev85/winlator.git</td>\n",
       "      <td>None</td>\n",
       "      <td>None</td>\n",
       "    </tr>\n",
       "    <tr>\n",
       "      <th>1</th>\n",
       "      <td>zongzibinbin/mallchat</td>\n",
       "      <td>Java</td>\n",
       "      <td>https://github.com/zongzibinbin/mallchat.git</td>\n",
       "      <td>/Volumes/T7/data/repos/Java/zongzibinbin@mallchat</td>\n",
       "      <td>f2563328d4a5311a2308079025da4e637437759b</td>\n",
       "    </tr>\n",
       "    <tr>\n",
       "      <th>2</th>\n",
       "      <td>alipay/fury</td>\n",
       "      <td>Java</td>\n",
       "      <td>https://github.com/alipay/fury.git</td>\n",
       "      <td>/Volumes/T7/data/repos/Java/alipay@fury</td>\n",
       "      <td>2ebdad055b159c06908835c093374e9b723f8bfb</td>\n",
       "    </tr>\n",
       "    <tr>\n",
       "      <th>3</th>\n",
       "      <td>aress31/burpgpt</td>\n",
       "      <td>Java</td>\n",
       "      <td>https://github.com/aress31/burpgpt.git</td>\n",
       "      <td>/Volumes/T7/data/repos/Java/aress31@burpgpt</td>\n",
       "      <td>79ea6b9fe66b351f108191e2a0732147091060c1</td>\n",
       "    </tr>\n",
       "    <tr>\n",
       "      <th>4</th>\n",
       "      <td>hncboy/ai-beehive</td>\n",
       "      <td>Java</td>\n",
       "      <td>https://github.com/hncboy/ai-beehive.git</td>\n",
       "      <td>/Volumes/T7/data/repos/Java/hncboy@ai-beehive</td>\n",
       "      <td>a87a815b14e82bc68c9e682b2438a728105e21a7</td>\n",
       "    </tr>\n",
       "    <tr>\n",
       "      <th>...</th>\n",
       "      <td>...</td>\n",
       "      <td>...</td>\n",
       "      <td>...</td>\n",
       "      <td>...</td>\n",
       "      <td>...</td>\n",
       "    </tr>\n",
       "    <tr>\n",
       "      <th>1995</th>\n",
       "      <td>xieerduos/electron-template</td>\n",
       "      <td>JavaScript</td>\n",
       "      <td>https://github.com/xieerduos/electron-template...</td>\n",
       "      <td>/Volumes/T7/data/repos/JavaScript/xieerduos@el...</td>\n",
       "      <td>aceea2f58cddb9847f03b67ee201ce5158a364dc</td>\n",
       "    </tr>\n",
       "    <tr>\n",
       "      <th>1996</th>\n",
       "      <td>microsoft/copilothackathon</td>\n",
       "      <td>JavaScript</td>\n",
       "      <td>https://github.com/microsoft/copilothackathon.git</td>\n",
       "      <td>/Volumes/T7/data/repos/JavaScript/microsoft@co...</td>\n",
       "      <td>9bcea90f505f47ff99335b145ef3ee22571d6303</td>\n",
       "    </tr>\n",
       "    <tr>\n",
       "      <th>1997</th>\n",
       "      <td>cztomsik/ggml-js</td>\n",
       "      <td>JavaScript</td>\n",
       "      <td>https://github.com/cztomsik/ggml-js.git</td>\n",
       "      <td>/Volumes/T7/data/repos/JavaScript/cztomsik@ggm...</td>\n",
       "      <td>e723d1cd7ed166d8a1e742e6633f2482a8c0c654</td>\n",
       "    </tr>\n",
       "    <tr>\n",
       "      <th>1998</th>\n",
       "      <td>5tiaowu/magichands</td>\n",
       "      <td>JavaScript</td>\n",
       "      <td>https://github.com/5tiaowu/magichands.git</td>\n",
       "      <td>/Volumes/T7/data/repos/JavaScript/5tiaowu@magi...</td>\n",
       "      <td>5ffd6307e51d62a8865803c6fee9a2d86ae6b33d</td>\n",
       "    </tr>\n",
       "    <tr>\n",
       "      <th>1999</th>\n",
       "      <td>wangbo777/mrdeer</td>\n",
       "      <td>JavaScript</td>\n",
       "      <td>https://github.com/wangbo777/mrdeer.git</td>\n",
       "      <td>/Volumes/T7/data/repos/JavaScript/wangbo777@mr...</td>\n",
       "      <td>5f234103130b31a735d61957a293651778c2cf1d</td>\n",
       "    </tr>\n",
       "  </tbody>\n",
       "</table>\n",
       "<p>2000 rows × 5 columns</p>\n",
       "</div>"
      ],
      "text/plain": [
       "                             name mainLanguage  \\\n",
       "0             brunodev85/winlator         Java   \n",
       "1           zongzibinbin/mallchat         Java   \n",
       "2                     alipay/fury         Java   \n",
       "3                 aress31/burpgpt         Java   \n",
       "4               hncboy/ai-beehive         Java   \n",
       "...                           ...          ...   \n",
       "1995  xieerduos/electron-template   JavaScript   \n",
       "1996   microsoft/copilothackathon   JavaScript   \n",
       "1997             cztomsik/ggml-js   JavaScript   \n",
       "1998           5tiaowu/magichands   JavaScript   \n",
       "1999             wangbo777/mrdeer   JavaScript   \n",
       "\n",
       "                                                    url  \\\n",
       "0            https://github.com/brunodev85/winlator.git   \n",
       "1          https://github.com/zongzibinbin/mallchat.git   \n",
       "2                    https://github.com/alipay/fury.git   \n",
       "3                https://github.com/aress31/burpgpt.git   \n",
       "4              https://github.com/hncboy/ai-beehive.git   \n",
       "...                                                 ...   \n",
       "1995  https://github.com/xieerduos/electron-template...   \n",
       "1996  https://github.com/microsoft/copilothackathon.git   \n",
       "1997            https://github.com/cztomsik/ggml-js.git   \n",
       "1998          https://github.com/5tiaowu/magichands.git   \n",
       "1999            https://github.com/wangbo777/mrdeer.git   \n",
       "\n",
       "                                             local_path  \\\n",
       "0                                                  None   \n",
       "1     /Volumes/T7/data/repos/Java/zongzibinbin@mallchat   \n",
       "2               /Volumes/T7/data/repos/Java/alipay@fury   \n",
       "3           /Volumes/T7/data/repos/Java/aress31@burpgpt   \n",
       "4         /Volumes/T7/data/repos/Java/hncboy@ai-beehive   \n",
       "...                                                 ...   \n",
       "1995  /Volumes/T7/data/repos/JavaScript/xieerduos@el...   \n",
       "1996  /Volumes/T7/data/repos/JavaScript/microsoft@co...   \n",
       "1997  /Volumes/T7/data/repos/JavaScript/cztomsik@ggm...   \n",
       "1998  /Volumes/T7/data/repos/JavaScript/5tiaowu@magi...   \n",
       "1999  /Volumes/T7/data/repos/JavaScript/wangbo777@mr...   \n",
       "\n",
       "                                           sha  \n",
       "0                                         None  \n",
       "1     f2563328d4a5311a2308079025da4e637437759b  \n",
       "2     2ebdad055b159c06908835c093374e9b723f8bfb  \n",
       "3     79ea6b9fe66b351f108191e2a0732147091060c1  \n",
       "4     a87a815b14e82bc68c9e682b2438a728105e21a7  \n",
       "...                                        ...  \n",
       "1995  aceea2f58cddb9847f03b67ee201ce5158a364dc  \n",
       "1996  9bcea90f505f47ff99335b145ef3ee22571d6303  \n",
       "1997  e723d1cd7ed166d8a1e742e6633f2482a8c0c654  \n",
       "1998  5ffd6307e51d62a8865803c6fee9a2d86ae6b33d  \n",
       "1999  5f234103130b31a735d61957a293651778c2cf1d  \n",
       "\n",
       "[2000 rows x 5 columns]"
      ]
     },
     "execution_count": 45,
     "metadata": {},
     "output_type": "execute_result"
    }
   ],
   "source": [
    "github_metadata_path = \"./metadata/cloned_repo_metadata.jsonl\"\n",
    "\n",
    "github_metadata = pd.read_json(github_metadata_path, orient=\"records\", lines=True)\n",
    "github_metadata"
   ]
  },
  {
   "cell_type": "markdown",
   "metadata": {},
   "source": [
    "过滤出clone失败的项目，None error"
   ]
  },
  {
   "cell_type": "code",
   "execution_count": 46,
   "metadata": {},
   "outputs": [
    {
     "data": {
      "text/html": [
       "<div>\n",
       "<style scoped>\n",
       "    .dataframe tbody tr th:only-of-type {\n",
       "        vertical-align: middle;\n",
       "    }\n",
       "\n",
       "    .dataframe tbody tr th {\n",
       "        vertical-align: top;\n",
       "    }\n",
       "\n",
       "    .dataframe thead th {\n",
       "        text-align: right;\n",
       "    }\n",
       "</style>\n",
       "<table border=\"1\" class=\"dataframe\">\n",
       "  <thead>\n",
       "    <tr style=\"text-align: right;\">\n",
       "      <th></th>\n",
       "      <th>name</th>\n",
       "      <th>mainLanguage</th>\n",
       "      <th>url</th>\n",
       "      <th>local_path</th>\n",
       "      <th>sha</th>\n",
       "    </tr>\n",
       "  </thead>\n",
       "  <tbody>\n",
       "    <tr>\n",
       "      <th>0</th>\n",
       "      <td>brunodev85/winlator</td>\n",
       "      <td>Java</td>\n",
       "      <td>https://github.com/brunodev85/winlator.git</td>\n",
       "      <td>None</td>\n",
       "      <td>None</td>\n",
       "    </tr>\n",
       "    <tr>\n",
       "      <th>136</th>\n",
       "      <td>RedRoverSchool/JenkinsQA_07</td>\n",
       "      <td>Java</td>\n",
       "      <td>https://github.com/RedRoverSchool/JenkinsQA_07...</td>\n",
       "      <td>None</td>\n",
       "      <td>None</td>\n",
       "    </tr>\n",
       "    <tr>\n",
       "      <th>311</th>\n",
       "      <td>jurecapuder/AndroidWeatherApp</td>\n",
       "      <td>Java</td>\n",
       "      <td>https://github.com/jurecapuder/AndroidWeatherA...</td>\n",
       "      <td>None</td>\n",
       "      <td>None</td>\n",
       "    </tr>\n",
       "    <tr>\n",
       "      <th>368</th>\n",
       "      <td>Halqq/misericordia-client</td>\n",
       "      <td>Java</td>\n",
       "      <td>https://github.com/Halqq/misericordia-client.git</td>\n",
       "      <td>None</td>\n",
       "      <td>None</td>\n",
       "    </tr>\n",
       "    <tr>\n",
       "      <th>418</th>\n",
       "      <td>kiegroup/kogito-runtimes</td>\n",
       "      <td>Java</td>\n",
       "      <td>https://github.com/kiegroup/kogito-runtimes.git</td>\n",
       "      <td>None</td>\n",
       "      <td>None</td>\n",
       "    </tr>\n",
       "    <tr>\n",
       "      <th>460</th>\n",
       "      <td>CaiMuCheng/LeafIDE</td>\n",
       "      <td>Java</td>\n",
       "      <td>https://github.com/CaiMuCheng/LeafIDE.git</td>\n",
       "      <td>None</td>\n",
       "      <td>None</td>\n",
       "    </tr>\n",
       "    <tr>\n",
       "      <th>496</th>\n",
       "      <td>RIA-AED/RIABandwidthSaver</td>\n",
       "      <td>Java</td>\n",
       "      <td>https://github.com/RIA-AED/RIABandwidthSaver.git</td>\n",
       "      <td>None</td>\n",
       "      <td>None</td>\n",
       "    </tr>\n",
       "    <tr>\n",
       "      <th>529</th>\n",
       "      <td>lzwme/chatgpt-sites</td>\n",
       "      <td>TypeScript</td>\n",
       "      <td>https://github.com/lzwme/chatgpt-sites.git</td>\n",
       "      <td>None</td>\n",
       "      <td>None</td>\n",
       "    </tr>\n",
       "    <tr>\n",
       "      <th>627</th>\n",
       "      <td>yesmore/inke</td>\n",
       "      <td>TypeScript</td>\n",
       "      <td>https://github.com/yesmore/inke.git</td>\n",
       "      <td>None</td>\n",
       "      <td>None</td>\n",
       "    </tr>\n",
       "    <tr>\n",
       "      <th>651</th>\n",
       "      <td>uiwjs/react-login-page</td>\n",
       "      <td>TypeScript</td>\n",
       "      <td>https://github.com/uiwjs/react-login-page.git</td>\n",
       "      <td>None</td>\n",
       "      <td>None</td>\n",
       "    </tr>\n",
       "    <tr>\n",
       "      <th>684</th>\n",
       "      <td>recursivelyai/copilotkit</td>\n",
       "      <td>TypeScript</td>\n",
       "      <td>https://github.com/recursivelyai/copilotkit.git</td>\n",
       "      <td>None</td>\n",
       "      <td>None</td>\n",
       "    </tr>\n",
       "    <tr>\n",
       "      <th>687</th>\n",
       "      <td>rgthree/rgthree-comfy</td>\n",
       "      <td>TypeScript</td>\n",
       "      <td>https://github.com/rgthree/rgthree-comfy.git</td>\n",
       "      <td>None</td>\n",
       "      <td>None</td>\n",
       "    </tr>\n",
       "    <tr>\n",
       "      <th>689</th>\n",
       "      <td>all-in-aigc/aiwallpaper</td>\n",
       "      <td>TypeScript</td>\n",
       "      <td>https://github.com/all-in-aigc/aiwallpaper.git</td>\n",
       "      <td>None</td>\n",
       "      <td>None</td>\n",
       "    </tr>\n",
       "    <tr>\n",
       "      <th>724</th>\n",
       "      <td>douo/raycast-openai-translator</td>\n",
       "      <td>TypeScript</td>\n",
       "      <td>https://github.com/douo/raycast-openai-transla...</td>\n",
       "      <td>None</td>\n",
       "      <td>None</td>\n",
       "    </tr>\n",
       "    <tr>\n",
       "      <th>737</th>\n",
       "      <td>google/aside</td>\n",
       "      <td>TypeScript</td>\n",
       "      <td>https://github.com/google/aside.git</td>\n",
       "      <td>None</td>\n",
       "      <td>None</td>\n",
       "    </tr>\n",
       "    <tr>\n",
       "      <th>823</th>\n",
       "      <td>kumaaa-inc/shadow-panda</td>\n",
       "      <td>TypeScript</td>\n",
       "      <td>https://github.com/kumaaa-inc/shadow-panda.git</td>\n",
       "      <td>None</td>\n",
       "      <td>None</td>\n",
       "    </tr>\n",
       "    <tr>\n",
       "      <th>840</th>\n",
       "      <td>Enter-tainer/typst-preview</td>\n",
       "      <td>TypeScript</td>\n",
       "      <td>https://github.com/Enter-tainer/typst-preview.git</td>\n",
       "      <td>None</td>\n",
       "      <td>None</td>\n",
       "    </tr>\n",
       "    <tr>\n",
       "      <th>843</th>\n",
       "      <td>geng-haoran/Simulately</td>\n",
       "      <td>TypeScript</td>\n",
       "      <td>https://github.com/geng-haoran/Simulately.git</td>\n",
       "      <td>None</td>\n",
       "      <td>None</td>\n",
       "    </tr>\n",
       "    <tr>\n",
       "      <th>851</th>\n",
       "      <td>coconut-xr/natuerlich</td>\n",
       "      <td>TypeScript</td>\n",
       "      <td>https://github.com/coconut-xr/natuerlich.git</td>\n",
       "      <td>None</td>\n",
       "      <td>None</td>\n",
       "    </tr>\n",
       "    <tr>\n",
       "      <th>865</th>\n",
       "      <td>mlg404/palworld-paldex-api</td>\n",
       "      <td>TypeScript</td>\n",
       "      <td>https://github.com/mlg404/palworld-paldex-api.git</td>\n",
       "      <td>None</td>\n",
       "      <td>None</td>\n",
       "    </tr>\n",
       "    <tr>\n",
       "      <th>1012</th>\n",
       "      <td>chatchat-space/langchain-ChatGLM</td>\n",
       "      <td>Python</td>\n",
       "      <td>https://github.com/chatchat-space/langchain-Ch...</td>\n",
       "      <td>None</td>\n",
       "      <td>None</td>\n",
       "    </tr>\n",
       "    <tr>\n",
       "      <th>1019</th>\n",
       "      <td>cumulo-autumn/StreamDiffusion</td>\n",
       "      <td>Python</td>\n",
       "      <td>https://github.com/cumulo-autumn/StreamDiffusi...</td>\n",
       "      <td>None</td>\n",
       "      <td>None</td>\n",
       "    </tr>\n",
       "    <tr>\n",
       "      <th>1050</th>\n",
       "      <td>hiyouga/LLaMA-Efficient-Tuning</td>\n",
       "      <td>Python</td>\n",
       "      <td>https://github.com/hiyouga/LLaMA-Efficient-Tun...</td>\n",
       "      <td>None</td>\n",
       "      <td>None</td>\n",
       "    </tr>\n",
       "    <tr>\n",
       "      <th>1056</th>\n",
       "      <td>ux-decoder/segment-everything-everywhere-all-a...</td>\n",
       "      <td>Python</td>\n",
       "      <td>https://github.com/ux-decoder/segment-everythi...</td>\n",
       "      <td>None</td>\n",
       "      <td>None</td>\n",
       "    </tr>\n",
       "    <tr>\n",
       "      <th>1113</th>\n",
       "      <td>PKU-YuanGroup/Video-LLaVA</td>\n",
       "      <td>Python</td>\n",
       "      <td>https://github.com/PKU-YuanGroup/Video-LLaVA.git</td>\n",
       "      <td>None</td>\n",
       "      <td>None</td>\n",
       "    </tr>\n",
       "    <tr>\n",
       "      <th>1115</th>\n",
       "      <td>yzfly/LangGPT</td>\n",
       "      <td>Python</td>\n",
       "      <td>https://github.com/yzfly/LangGPT.git</td>\n",
       "      <td>None</td>\n",
       "      <td>None</td>\n",
       "    </tr>\n",
       "    <tr>\n",
       "      <th>1132</th>\n",
       "      <td>agiresearch/openagi</td>\n",
       "      <td>Python</td>\n",
       "      <td>https://github.com/agiresearch/openagi.git</td>\n",
       "      <td>None</td>\n",
       "      <td>None</td>\n",
       "    </tr>\n",
       "    <tr>\n",
       "      <th>1139</th>\n",
       "      <td>101dotxyz/GPTeam</td>\n",
       "      <td>Python</td>\n",
       "      <td>https://github.com/101dotxyz/GPTeam.git</td>\n",
       "      <td>None</td>\n",
       "      <td>None</td>\n",
       "    </tr>\n",
       "    <tr>\n",
       "      <th>1154</th>\n",
       "      <td>barry-far/V2ray-Configs</td>\n",
       "      <td>Python</td>\n",
       "      <td>https://github.com/barry-far/V2ray-Configs.git</td>\n",
       "      <td>None</td>\n",
       "      <td>None</td>\n",
       "    </tr>\n",
       "    <tr>\n",
       "      <th>1159</th>\n",
       "      <td>fudan-zvg/semantic-segment-anything</td>\n",
       "      <td>Python</td>\n",
       "      <td>https://github.com/fudan-zvg/semantic-segment-...</td>\n",
       "      <td>None</td>\n",
       "      <td>None</td>\n",
       "    </tr>\n",
       "    <tr>\n",
       "      <th>1180</th>\n",
       "      <td>zwq2018/data-copilot</td>\n",
       "      <td>Python</td>\n",
       "      <td>https://github.com/zwq2018/data-copilot.git</td>\n",
       "      <td>None</td>\n",
       "      <td>None</td>\n",
       "    </tr>\n",
       "    <tr>\n",
       "      <th>1303</th>\n",
       "      <td>taichi-dev/taichi-nerfs</td>\n",
       "      <td>Python</td>\n",
       "      <td>https://github.com/taichi-dev/taichi-nerfs.git</td>\n",
       "      <td>None</td>\n",
       "      <td>None</td>\n",
       "    </tr>\n",
       "    <tr>\n",
       "      <th>1316</th>\n",
       "      <td>TencentARC/MotionCtrl</td>\n",
       "      <td>Python</td>\n",
       "      <td>https://github.com/TencentARC/MotionCtrl.git</td>\n",
       "      <td>None</td>\n",
       "      <td>None</td>\n",
       "    </tr>\n",
       "    <tr>\n",
       "      <th>1345</th>\n",
       "      <td>mattyamonaca/layerdivider</td>\n",
       "      <td>Python</td>\n",
       "      <td>https://github.com/mattyamonaca/layerdivider.git</td>\n",
       "      <td>None</td>\n",
       "      <td>None</td>\n",
       "    </tr>\n",
       "    <tr>\n",
       "      <th>1435</th>\n",
       "      <td>opencopilotdev/opencopilot</td>\n",
       "      <td>Python</td>\n",
       "      <td>https://github.com/opencopilotdev/opencopilot.git</td>\n",
       "      <td>None</td>\n",
       "      <td>None</td>\n",
       "    </tr>\n",
       "    <tr>\n",
       "      <th>1488</th>\n",
       "      <td>madaan/self-refine</td>\n",
       "      <td>Python</td>\n",
       "      <td>https://github.com/madaan/self-refine.git</td>\n",
       "      <td>None</td>\n",
       "      <td>None</td>\n",
       "    </tr>\n",
       "    <tr>\n",
       "      <th>1494</th>\n",
       "      <td>RaymondWang987/NVDS</td>\n",
       "      <td>Python</td>\n",
       "      <td>https://github.com/RaymondWang987/NVDS.git</td>\n",
       "      <td>None</td>\n",
       "      <td>None</td>\n",
       "    </tr>\n",
       "    <tr>\n",
       "      <th>1531</th>\n",
       "      <td>badlogic/heissepreise</td>\n",
       "      <td>JavaScript</td>\n",
       "      <td>https://github.com/badlogic/heissepreise.git</td>\n",
       "      <td>None</td>\n",
       "      <td>None</td>\n",
       "    </tr>\n",
       "    <tr>\n",
       "      <th>1554</th>\n",
       "      <td>underpig1/octos</td>\n",
       "      <td>JavaScript</td>\n",
       "      <td>https://github.com/underpig1/octos.git</td>\n",
       "      <td>None</td>\n",
       "      <td>None</td>\n",
       "    </tr>\n",
       "    <tr>\n",
       "      <th>1625</th>\n",
       "      <td>truethari/reactfolio</td>\n",
       "      <td>JavaScript</td>\n",
       "      <td>https://github.com/truethari/reactfolio.git</td>\n",
       "      <td>None</td>\n",
       "      <td>None</td>\n",
       "    </tr>\n",
       "    <tr>\n",
       "      <th>1636</th>\n",
       "      <td>barqawiz/intellinode</td>\n",
       "      <td>JavaScript</td>\n",
       "      <td>https://github.com/barqawiz/intellinode.git</td>\n",
       "      <td>None</td>\n",
       "      <td>None</td>\n",
       "    </tr>\n",
       "    <tr>\n",
       "      <th>1652</th>\n",
       "      <td>WenqiOfficial/StudyWithMiku</td>\n",
       "      <td>JavaScript</td>\n",
       "      <td>https://github.com/WenqiOfficial/StudyWithMiku...</td>\n",
       "      <td>None</td>\n",
       "      <td>None</td>\n",
       "    </tr>\n",
       "    <tr>\n",
       "      <th>1665</th>\n",
       "      <td>quadjr/aframe-gaussian-splatting</td>\n",
       "      <td>JavaScript</td>\n",
       "      <td>https://github.com/quadjr/aframe-gaussian-spla...</td>\n",
       "      <td>None</td>\n",
       "      <td>None</td>\n",
       "    </tr>\n",
       "    <tr>\n",
       "      <th>1729</th>\n",
       "      <td>ssitvit/code-canvas</td>\n",
       "      <td>JavaScript</td>\n",
       "      <td>https://github.com/ssitvit/code-canvas.git</td>\n",
       "      <td>None</td>\n",
       "      <td>None</td>\n",
       "    </tr>\n",
       "    <tr>\n",
       "      <th>1751</th>\n",
       "      <td>enhance-dev/enhance-music</td>\n",
       "      <td>JavaScript</td>\n",
       "      <td>https://github.com/enhance-dev/enhance-music.git</td>\n",
       "      <td>None</td>\n",
       "      <td>None</td>\n",
       "    </tr>\n",
       "    <tr>\n",
       "      <th>1757</th>\n",
       "      <td>uba-gcoen/stichhub</td>\n",
       "      <td>JavaScript</td>\n",
       "      <td>https://github.com/uba-gcoen/stichhub.git</td>\n",
       "      <td>None</td>\n",
       "      <td>None</td>\n",
       "    </tr>\n",
       "    <tr>\n",
       "      <th>1828</th>\n",
       "      <td>mywebshortcuts/mywebshortcuts</td>\n",
       "      <td>JavaScript</td>\n",
       "      <td>https://github.com/mywebshortcuts/mywebshortcu...</td>\n",
       "      <td>None</td>\n",
       "      <td>None</td>\n",
       "    </tr>\n",
       "    <tr>\n",
       "      <th>1829</th>\n",
       "      <td>mopfasrfga/officehack</td>\n",
       "      <td>JavaScript</td>\n",
       "      <td>https://github.com/mopfasrfga/officehack.git</td>\n",
       "      <td>None</td>\n",
       "      <td>None</td>\n",
       "    </tr>\n",
       "    <tr>\n",
       "      <th>1856</th>\n",
       "      <td>oslabs-beta/netpulse</td>\n",
       "      <td>JavaScript</td>\n",
       "      <td>https://github.com/oslabs-beta/netpulse.git</td>\n",
       "      <td>None</td>\n",
       "      <td>None</td>\n",
       "    </tr>\n",
       "    <tr>\n",
       "      <th>1866</th>\n",
       "      <td>star3am/hashiqube</td>\n",
       "      <td>JavaScript</td>\n",
       "      <td>https://github.com/star3am/hashiqube.git</td>\n",
       "      <td>None</td>\n",
       "      <td>None</td>\n",
       "    </tr>\n",
       "    <tr>\n",
       "      <th>1912</th>\n",
       "      <td>bouzidanas/streamlit-code-editor</td>\n",
       "      <td>JavaScript</td>\n",
       "      <td>https://github.com/bouzidanas/streamlit-code-e...</td>\n",
       "      <td>None</td>\n",
       "      <td>None</td>\n",
       "    </tr>\n",
       "    <tr>\n",
       "      <th>1918</th>\n",
       "      <td>andrewwoan/PSU-VR</td>\n",
       "      <td>JavaScript</td>\n",
       "      <td>https://github.com/andrewwoan/PSU-VR.git</td>\n",
       "      <td>None</td>\n",
       "      <td>None</td>\n",
       "    </tr>\n",
       "    <tr>\n",
       "      <th>1939</th>\n",
       "      <td>Kritika30032002/ReactCreations</td>\n",
       "      <td>JavaScript</td>\n",
       "      <td>https://github.com/Kritika30032002/ReactCreati...</td>\n",
       "      <td>None</td>\n",
       "      <td>None</td>\n",
       "    </tr>\n",
       "    <tr>\n",
       "      <th>1944</th>\n",
       "      <td>hellovivian/generative-disco</td>\n",
       "      <td>JavaScript</td>\n",
       "      <td>https://github.com/hellovivian/generative-disc...</td>\n",
       "      <td>None</td>\n",
       "      <td>None</td>\n",
       "    </tr>\n",
       "    <tr>\n",
       "      <th>1955</th>\n",
       "      <td>pythagora-io/api</td>\n",
       "      <td>JavaScript</td>\n",
       "      <td>https://github.com/pythagora-io/api.git</td>\n",
       "      <td>None</td>\n",
       "      <td>None</td>\n",
       "    </tr>\n",
       "    <tr>\n",
       "      <th>1966</th>\n",
       "      <td>wladradchenko/radio.wladradchenko.ru</td>\n",
       "      <td>JavaScript</td>\n",
       "      <td>https://github.com/wladradchenko/radio.wladrad...</td>\n",
       "      <td>None</td>\n",
       "      <td>None</td>\n",
       "    </tr>\n",
       "    <tr>\n",
       "      <th>1988</th>\n",
       "      <td>miguelmyers8/PlanetTechJS</td>\n",
       "      <td>JavaScript</td>\n",
       "      <td>https://github.com/miguelmyers8/PlanetTechJS.git</td>\n",
       "      <td>None</td>\n",
       "      <td>None</td>\n",
       "    </tr>\n",
       "  </tbody>\n",
       "</table>\n",
       "</div>"
      ],
      "text/plain": [
       "                                                   name mainLanguage  \\\n",
       "0                                   brunodev85/winlator         Java   \n",
       "136                         RedRoverSchool/JenkinsQA_07         Java   \n",
       "311                       jurecapuder/AndroidWeatherApp         Java   \n",
       "368                           Halqq/misericordia-client         Java   \n",
       "418                            kiegroup/kogito-runtimes         Java   \n",
       "460                                  CaiMuCheng/LeafIDE         Java   \n",
       "496                           RIA-AED/RIABandwidthSaver         Java   \n",
       "529                                 lzwme/chatgpt-sites   TypeScript   \n",
       "627                                        yesmore/inke   TypeScript   \n",
       "651                              uiwjs/react-login-page   TypeScript   \n",
       "684                            recursivelyai/copilotkit   TypeScript   \n",
       "687                               rgthree/rgthree-comfy   TypeScript   \n",
       "689                             all-in-aigc/aiwallpaper   TypeScript   \n",
       "724                      douo/raycast-openai-translator   TypeScript   \n",
       "737                                        google/aside   TypeScript   \n",
       "823                             kumaaa-inc/shadow-panda   TypeScript   \n",
       "840                          Enter-tainer/typst-preview   TypeScript   \n",
       "843                              geng-haoran/Simulately   TypeScript   \n",
       "851                               coconut-xr/natuerlich   TypeScript   \n",
       "865                          mlg404/palworld-paldex-api   TypeScript   \n",
       "1012                   chatchat-space/langchain-ChatGLM       Python   \n",
       "1019                      cumulo-autumn/StreamDiffusion       Python   \n",
       "1050                     hiyouga/LLaMA-Efficient-Tuning       Python   \n",
       "1056  ux-decoder/segment-everything-everywhere-all-a...       Python   \n",
       "1113                          PKU-YuanGroup/Video-LLaVA       Python   \n",
       "1115                                      yzfly/LangGPT       Python   \n",
       "1132                                agiresearch/openagi       Python   \n",
       "1139                                   101dotxyz/GPTeam       Python   \n",
       "1154                            barry-far/V2ray-Configs       Python   \n",
       "1159                fudan-zvg/semantic-segment-anything       Python   \n",
       "1180                               zwq2018/data-copilot       Python   \n",
       "1303                            taichi-dev/taichi-nerfs       Python   \n",
       "1316                              TencentARC/MotionCtrl       Python   \n",
       "1345                          mattyamonaca/layerdivider       Python   \n",
       "1435                         opencopilotdev/opencopilot       Python   \n",
       "1488                                 madaan/self-refine       Python   \n",
       "1494                                RaymondWang987/NVDS       Python   \n",
       "1531                              badlogic/heissepreise   JavaScript   \n",
       "1554                                    underpig1/octos   JavaScript   \n",
       "1625                               truethari/reactfolio   JavaScript   \n",
       "1636                               barqawiz/intellinode   JavaScript   \n",
       "1652                        WenqiOfficial/StudyWithMiku   JavaScript   \n",
       "1665                   quadjr/aframe-gaussian-splatting   JavaScript   \n",
       "1729                                ssitvit/code-canvas   JavaScript   \n",
       "1751                          enhance-dev/enhance-music   JavaScript   \n",
       "1757                                 uba-gcoen/stichhub   JavaScript   \n",
       "1828                      mywebshortcuts/mywebshortcuts   JavaScript   \n",
       "1829                              mopfasrfga/officehack   JavaScript   \n",
       "1856                               oslabs-beta/netpulse   JavaScript   \n",
       "1866                                  star3am/hashiqube   JavaScript   \n",
       "1912                   bouzidanas/streamlit-code-editor   JavaScript   \n",
       "1918                                  andrewwoan/PSU-VR   JavaScript   \n",
       "1939                     Kritika30032002/ReactCreations   JavaScript   \n",
       "1944                       hellovivian/generative-disco   JavaScript   \n",
       "1955                                   pythagora-io/api   JavaScript   \n",
       "1966               wladradchenko/radio.wladradchenko.ru   JavaScript   \n",
       "1988                          miguelmyers8/PlanetTechJS   JavaScript   \n",
       "\n",
       "                                                    url local_path   sha  \n",
       "0            https://github.com/brunodev85/winlator.git       None  None  \n",
       "136   https://github.com/RedRoverSchool/JenkinsQA_07...       None  None  \n",
       "311   https://github.com/jurecapuder/AndroidWeatherA...       None  None  \n",
       "368    https://github.com/Halqq/misericordia-client.git       None  None  \n",
       "418     https://github.com/kiegroup/kogito-runtimes.git       None  None  \n",
       "460           https://github.com/CaiMuCheng/LeafIDE.git       None  None  \n",
       "496    https://github.com/RIA-AED/RIABandwidthSaver.git       None  None  \n",
       "529          https://github.com/lzwme/chatgpt-sites.git       None  None  \n",
       "627                 https://github.com/yesmore/inke.git       None  None  \n",
       "651       https://github.com/uiwjs/react-login-page.git       None  None  \n",
       "684     https://github.com/recursivelyai/copilotkit.git       None  None  \n",
       "687        https://github.com/rgthree/rgthree-comfy.git       None  None  \n",
       "689      https://github.com/all-in-aigc/aiwallpaper.git       None  None  \n",
       "724   https://github.com/douo/raycast-openai-transla...       None  None  \n",
       "737                 https://github.com/google/aside.git       None  None  \n",
       "823      https://github.com/kumaaa-inc/shadow-panda.git       None  None  \n",
       "840   https://github.com/Enter-tainer/typst-preview.git       None  None  \n",
       "843       https://github.com/geng-haoran/Simulately.git       None  None  \n",
       "851        https://github.com/coconut-xr/natuerlich.git       None  None  \n",
       "865   https://github.com/mlg404/palworld-paldex-api.git       None  None  \n",
       "1012  https://github.com/chatchat-space/langchain-Ch...       None  None  \n",
       "1019  https://github.com/cumulo-autumn/StreamDiffusi...       None  None  \n",
       "1050  https://github.com/hiyouga/LLaMA-Efficient-Tun...       None  None  \n",
       "1056  https://github.com/ux-decoder/segment-everythi...       None  None  \n",
       "1113   https://github.com/PKU-YuanGroup/Video-LLaVA.git       None  None  \n",
       "1115               https://github.com/yzfly/LangGPT.git       None  None  \n",
       "1132         https://github.com/agiresearch/openagi.git       None  None  \n",
       "1139            https://github.com/101dotxyz/GPTeam.git       None  None  \n",
       "1154     https://github.com/barry-far/V2ray-Configs.git       None  None  \n",
       "1159  https://github.com/fudan-zvg/semantic-segment-...       None  None  \n",
       "1180        https://github.com/zwq2018/data-copilot.git       None  None  \n",
       "1303     https://github.com/taichi-dev/taichi-nerfs.git       None  None  \n",
       "1316       https://github.com/TencentARC/MotionCtrl.git       None  None  \n",
       "1345   https://github.com/mattyamonaca/layerdivider.git       None  None  \n",
       "1435  https://github.com/opencopilotdev/opencopilot.git       None  None  \n",
       "1488          https://github.com/madaan/self-refine.git       None  None  \n",
       "1494         https://github.com/RaymondWang987/NVDS.git       None  None  \n",
       "1531       https://github.com/badlogic/heissepreise.git       None  None  \n",
       "1554             https://github.com/underpig1/octos.git       None  None  \n",
       "1625        https://github.com/truethari/reactfolio.git       None  None  \n",
       "1636        https://github.com/barqawiz/intellinode.git       None  None  \n",
       "1652  https://github.com/WenqiOfficial/StudyWithMiku...       None  None  \n",
       "1665  https://github.com/quadjr/aframe-gaussian-spla...       None  None  \n",
       "1729         https://github.com/ssitvit/code-canvas.git       None  None  \n",
       "1751   https://github.com/enhance-dev/enhance-music.git       None  None  \n",
       "1757          https://github.com/uba-gcoen/stichhub.git       None  None  \n",
       "1828  https://github.com/mywebshortcuts/mywebshortcu...       None  None  \n",
       "1829       https://github.com/mopfasrfga/officehack.git       None  None  \n",
       "1856        https://github.com/oslabs-beta/netpulse.git       None  None  \n",
       "1866           https://github.com/star3am/hashiqube.git       None  None  \n",
       "1912  https://github.com/bouzidanas/streamlit-code-e...       None  None  \n",
       "1918           https://github.com/andrewwoan/PSU-VR.git       None  None  \n",
       "1939  https://github.com/Kritika30032002/ReactCreati...       None  None  \n",
       "1944  https://github.com/hellovivian/generative-disc...       None  None  \n",
       "1955            https://github.com/pythagora-io/api.git       None  None  \n",
       "1966  https://github.com/wladradchenko/radio.wladrad...       None  None  \n",
       "1988   https://github.com/miguelmyers8/PlanetTechJS.git       None  None  "
      ]
     },
     "execution_count": 46,
     "metadata": {},
     "output_type": "execute_result"
    }
   ],
   "source": [
    "github_metadata.loc[github_metadata.local_path.isnull()]"
   ]
  },
  {
   "cell_type": "code",
   "execution_count": 47,
   "metadata": {},
   "outputs": [
    {
     "data": {
      "text/html": [
       "<div>\n",
       "<style scoped>\n",
       "    .dataframe tbody tr th:only-of-type {\n",
       "        vertical-align: middle;\n",
       "    }\n",
       "\n",
       "    .dataframe tbody tr th {\n",
       "        vertical-align: top;\n",
       "    }\n",
       "\n",
       "    .dataframe thead th {\n",
       "        text-align: right;\n",
       "    }\n",
       "</style>\n",
       "<table border=\"1\" class=\"dataframe\">\n",
       "  <thead>\n",
       "    <tr style=\"text-align: right;\">\n",
       "      <th></th>\n",
       "      <th>num_repos</th>\n",
       "      <th>num_commits</th>\n",
       "    </tr>\n",
       "    <tr>\n",
       "      <th>mainLanguage_y</th>\n",
       "      <th></th>\n",
       "      <th></th>\n",
       "    </tr>\n",
       "  </thead>\n",
       "  <tbody>\n",
       "    <tr>\n",
       "      <th>Java</th>\n",
       "      <td>493</td>\n",
       "      <td>250.39</td>\n",
       "    </tr>\n",
       "    <tr>\n",
       "      <th>JavaScript</th>\n",
       "      <td>480</td>\n",
       "      <td>202.88</td>\n",
       "    </tr>\n",
       "    <tr>\n",
       "      <th>Python</th>\n",
       "      <td>483</td>\n",
       "      <td>143.04</td>\n",
       "    </tr>\n",
       "    <tr>\n",
       "      <th>TypeScript</th>\n",
       "      <td>487</td>\n",
       "      <td>171.63</td>\n",
       "    </tr>\n",
       "  </tbody>\n",
       "</table>\n",
       "</div>"
      ],
      "text/plain": [
       "                num_repos  num_commits\n",
       "mainLanguage_y                        \n",
       "Java                  493       250.39\n",
       "JavaScript            480       202.88\n",
       "Python                483       143.04\n",
       "TypeScript            487       171.63"
      ]
     },
     "execution_count": 47,
     "metadata": {},
     "output_type": "execute_result"
    }
   ],
   "source": [
    "filtered_df = pd.read_json(\"./metadata/filtered_ghs_results_05_mar_2023.jsonl\", orient=\"records\", lines=True)\n",
    "\n",
    "filtered_df = filtered_df.merge(github_metadata, on=\"name\", how=\"inner\")\n",
    "\n",
    "#ghs_df[['mainLanguage_y', 'mainLanguage_x']]\n",
    "filtered_df = filtered_df.loc[~filtered_df.local_path.isna()]\n",
    "filtered_df.groupby(\"mainLanguage_y\").agg(num_repos=(\"name\", \"count\"), num_commits=(\"commits\", \"mean\"))"
   ]
  },
  {
   "cell_type": "markdown",
   "metadata": {},
   "source": [
    "## Mining all *added method* commits in each repo."
   ]
  },
  {
   "cell_type": "code",
   "execution_count": 48,
   "metadata": {},
   "outputs": [],
   "source": [
    "logger = logging.getLogger(\"commit_miner\")\n",
    "logger.setLevel(logging.DEBUG)\n",
    "fh = logging.FileHandler(\"./logs/commit_miner.log\")\n",
    "fh.setLevel(logging.DEBUG)\n",
    "fh.setFormatter(logging.Formatter(\"%(asctime)s | %(levelname)s | %(message)s\"))\n",
    "logger.addHandler(fh)"
   ]
  },
  {
   "cell_type": "markdown",
   "metadata": {},
   "source": [
    "## 存储repo的commit信息"
   ]
  },
  {
   "cell_type": "code",
   "execution_count": 49,
   "metadata": {},
   "outputs": [
    {
     "name": "stdout",
     "output_type": "stream",
     "text": [
      "Already processed 350 repositories!\n"
     ]
    }
   ],
   "source": [
    "from utils import download_all_commits\n",
    "from call_parser import langs\n",
    "\n",
    "github_metadata_path = \"./metadata/cloned_repo_metadata.jsonl\"\n",
    "github_metadata = pd.read_json(github_metadata_path, orient=\"records\", lines=True)\n",
    "github_metadata = github_metadata.loc[~github_metadata.local_path.isna()]\n",
    "\n",
    "commit_meta_path = \"./metadata/repo_commit_metadata.jsonl\"\n",
    "\n",
    "processed_names = set()\n",
    "if os.path.exists(commit_meta_path):\n",
    "    with jsonlines.open(commit_meta_path, \"r\") as reader:\n",
    "        processed_names = set(line[\"name\"] for line in reader)\n",
    "    logger.info(f\"Already processed {len(processed_names)} repositories!\")\n",
    "    print(f\"Already processed {len(processed_names)} repositories!\")\n",
    "else:\n",
    "    open(commit_meta_path, \"w\").close()"
   ]
  },
  {
   "cell_type": "markdown",
   "metadata": {},
   "source": [
    "make dir to save the commit histories."
   ]
  },
  {
   "cell_type": "code",
   "execution_count": 50,
   "metadata": {},
   "outputs": [],
   "source": [
    "output_path = \"../data/commits/\"\n",
    "\n",
    "for lang in [\"Java\", \"Python\", \"JavaScript\", \"TypeScript\"]:\n",
    "    cur_output_path = output_path + lang + \"/\"\n",
    "    Path(cur_output_path).mkdir(parents=True, exist_ok=True)        "
   ]
  },
  {
   "cell_type": "code",
   "execution_count": 51,
   "metadata": {},
   "outputs": [
    {
     "data": {
      "text/plain": [
       "{'Java': <call_parser.java_call_parser.JavaCallParser at 0x11d6a0ee0>,\n",
       " 'Python': <call_parser.py_call_parser.PyCallParser at 0x11a2f3cd0>,\n",
       " 'JavaScript': <call_parser.js_call_parser.JSCallParser at 0x11a2f0430>,\n",
       " 'TypeScript': <call_parser.ts_call_parser.TSCallParser at 0x12aa9eb00>}"
      ]
     },
     "execution_count": 51,
     "metadata": {},
     "output_type": "execute_result"
    }
   ],
   "source": [
    "langs"
   ]
  },
  {
   "cell_type": "markdown",
   "metadata": {},
   "source": [
    "### ！！！Only Keep repos which contains [20-500] methods."
   ]
  },
  {
   "cell_type": "code",
   "execution_count": 52,
   "metadata": {
    "collapsed": false,
    "jupyter": {
     "outputs_hidden": false
    }
   },
   "outputs": [
    {
     "name": "stderr",
     "output_type": "stream",
     "text": [
      "Deal with .js: process repo ArchGPT@insomnium at commit 3ccd, processed :  92%|█████████▏| 1470/1593 [3:06:40<25:46, 12.58s/it]                                     [skip] fail to process 'yarn-standalone.js' with RecursionError - maximum recursion depth exceeded\n",
      "Deal with .js: process repo oslabs-beta@Ludwig at commit 31d6, processed : : 1738it [5:08:49,  4.12s/it]                                                [skip] fail to process 'extension.js' with RecursionError - maximum recursion depth exceeded\n",
      "Deal with .js: process repo oslabs-beta@Ludwig at commit e8b9, processed : : 1738it [5:27:24,  4.12s/it][skip] fail to process 'extension.js' with RecursionError - maximum recursion depth exceeded\n",
      "[skip] fail to process 'extension.js' with RecursionError - maximum recursion depth exceeded\n",
      "Deal with .js: process repo oslabs-beta@Ludwig at commit 460a, processed : : 1738it [5:44:26,  4.12s/it][skip] fail to process 'extension.js' with RecursionError - maximum recursion depth exceeded\n",
      "[skip] fail to process 'extension.js' with RecursionError - maximum recursion depth exceeded\n",
      "Deal with .js: process repo oslabs-beta@Ludwig at commit 60bb, processed : : 1738it [5:51:49,  4.12s/it][skip] fail to process 'extension.js' with RecursionError - maximum recursion depth exceeded\n",
      "[skip] fail to process 'extension.js' with RecursionError - maximum recursion depth exceeded\n",
      "Deal with .js: process repo oslabs-beta@Ludwig at commit 5ab9, processed : : 1738it [5:55:32,  4.12s/it][skip] fail to process 'extension.js' with RecursionError - maximum recursion depth exceeded\n",
      "[skip] fail to process 'extension.js' with RecursionError - maximum recursion depth exceeded\n",
      "Deal with .js: process repo oslabs-beta@Ludwig at commit 3b4b, processed : : 1738it [5:59:12,  4.12s/it][skip] fail to process 'extension.js' with RecursionError - maximum recursion depth exceeded\n",
      "[skip] fail to process 'extension.js' with RecursionError - maximum recursion depth exceeded\n",
      "Deal with .js: process repo oslabs-beta@Ludwig at commit 2f8f, processed : : 1738it [6:02:51,  4.12s/it][skip] fail to process 'extension.js' with RecursionError - maximum recursion depth exceeded\n",
      "[skip] fail to process 'extension.js' with RecursionError - maximum recursion depth exceeded\n",
      "Deal with .js: process repo oslabs-beta@Ludwig at commit 807a, processed : : 1738it [6:06:33,  4.12s/it][skip] fail to process 'extension.js' with RecursionError - maximum recursion depth exceeded\n",
      "[skip] fail to process 'extension.js' with RecursionError - maximum recursion depth exceeded\n",
      "Deal with .js: process repo oslabs-beta@Ludwig at commit 1936, processed : : 1738it [6:10:15,  4.12s/it][skip] fail to process 'extension.js' with RecursionError - maximum recursion depth exceeded\n",
      "[skip] fail to process 'extension.js' with RecursionError - maximum recursion depth exceeded\n",
      "Deal with .js: process repo oslabs-beta@Ludwig at commit 0a9b, processed : : 1738it [6:13:55,  4.12s/it][skip] fail to process 'extension.js' with RecursionError - maximum recursion depth exceeded\n",
      "[skip] fail to process 'extension.js' with RecursionError - maximum recursion depth exceeded\n",
      "Deal with .js: process repo oslabs-beta@Ludwig at commit 48f1, processed : : 1738it [6:17:35,  4.12s/it][skip] fail to process 'extension.js' with RecursionError - maximum recursion depth exceeded\n",
      "[skip] fail to process 'extension.js' with RecursionError - maximum recursion depth exceeded\n",
      "Deal with .js: process repo oslabs-beta@Ludwig at commit 9713, processed : : 1738it [6:21:14,  4.12s/it][skip] fail to process 'extension.js' with RecursionError - maximum recursion depth exceeded\n",
      "[skip] fail to process 'extension.js' with RecursionError - maximum recursion depth exceeded\n",
      "Deal with .js: process repo oslabs-beta@Ludwig at commit 4b50, processed : : 1738it [6:24:53,  4.12s/it][skip] fail to process 'extension.js' with RecursionError - maximum recursion depth exceeded\n",
      "[skip] fail to process 'extension.js' with RecursionError - maximum recursion depth exceeded\n",
      "Deal with .js: process repo oslabs-beta@Ludwig at commit 9b1d, processed : : 1738it [6:28:33,  4.12s/it][skip] fail to process 'extension.js' with RecursionError - maximum recursion depth exceeded\n",
      "[skip] fail to process 'extension.js' with RecursionError - maximum recursion depth exceeded\n",
      "Deal with .js: process repo oslabs-beta@Ludwig at commit e162, processed : : 1738it [6:32:12,  4.12s/it][skip] fail to process 'extension.js' with RecursionError - maximum recursion depth exceeded\n",
      "[skip] fail to process 'extension.js' with RecursionError - maximum recursion depth exceeded\n",
      "Deal with .js: process repo oslabs-beta@Ludwig at commit ede8, processed : : 1738it [6:35:51,  4.12s/it][skip] fail to process 'extension.js' with RecursionError - maximum recursion depth exceeded\n",
      "[skip] fail to process 'extension.js' with RecursionError - maximum recursion depth exceeded\n",
      "Deal with .js: process repo oslabs-beta@Ludwig at commit b6ea, processed : : 1738it [6:39:31,  4.12s/it][skip] fail to process 'extension.js' with RecursionError - maximum recursion depth exceeded\n",
      "[skip] fail to process 'extension.js' with RecursionError - maximum recursion depth exceeded\n",
      "Deal with .js: process repo oslabs-beta@Ludwig at commit 9dfb, processed : : 1738it [6:43:09,  4.12s/it][skip] fail to process 'extension.js' with RecursionError - maximum recursion depth exceeded\n",
      "[skip] fail to process 'extension.js' with RecursionError - maximum recursion depth exceeded\n",
      "Deal with .js: process repo oslabs-beta@Ludwig at commit 15e4, processed : : 1738it [6:46:48,  4.12s/it][skip] fail to process 'extension.js' with RecursionError - maximum recursion depth exceeded\n",
      "[skip] fail to process 'extension.js' with RecursionError - maximum recursion depth exceeded\n",
      "Deal with .js: process repo oslabs-beta@Ludwig at commit da2f, processed : : 1738it [6:50:27,  4.12s/it][skip] fail to process 'extension.js' with RecursionError - maximum recursion depth exceeded\n",
      "[skip] fail to process 'extension.js' with RecursionError - maximum recursion depth exceeded\n",
      "Deal with .js: process repo oslabs-beta@Ludwig at commit 0f62, processed : : 1738it [6:54:05,  4.12s/it][skip] fail to process 'extension.js' with RecursionError - maximum recursion depth exceeded\n",
      "[skip] fail to process 'extension.js' with RecursionError - maximum recursion depth exceeded\n",
      "Deal with .js: process repo oslabs-beta@Ludwig at commit b415, processed : : 1738it [6:57:44,  4.12s/it][skip] fail to process 'LANG-ATTR-CODE.js' with RecursionError - maximum recursion depth exceeded while calling a Python object\n",
      "Deal with .js: process repo oslabs-beta@Ludwig at commit d2fd, processed : : 1738it [6:57:48,  4.12s/it][skip] fail to process 'LANG-ATTR-CODE.js' with RecursionError - maximum recursion depth exceeded while calling a Python object\n",
      "Deal with .js: process repo oslabs-beta@Ludwig at commit d40b, processed : : 1738it [6:57:52,  4.12s/it][skip] fail to process 'extension.js' with RecursionError - maximum recursion depth exceeded\n",
      "[skip] fail to process 'extension.js' with RecursionError - maximum recursion depth exceeded\n",
      "Deal with .js: process repo oslabs-beta@Ludwig at commit cf46, processed : : 1738it [7:01:31,  4.12s/it][skip] fail to process 'extension.js' with RecursionError - maximum recursion depth exceeded\n",
      "[skip] fail to process 'extension.js' with RecursionError - maximum recursion depth exceeded\n",
      "Deal with .js: process repo oslabs-beta@Ludwig at commit 7a24, processed : : 1738it [7:05:11,  4.12s/it][skip] fail to process 'extension.js' with RecursionError - maximum recursion depth exceeded\n",
      "[skip] fail to process 'extension.js' with RecursionError - maximum recursion depth exceeded\n",
      "Deal with .js: process repo oslabs-beta@Ludwig at commit 5931, processed : : 1738it [7:08:52,  4.12s/it][skip] fail to process 'extension.js' with RecursionError - maximum recursion depth exceeded\n",
      "[skip] fail to process 'extension.js' with RecursionError - maximum recursion depth exceeded\n",
      "Deal with .js: process repo oslabs-beta@Ludwig at commit 70de, processed : : 1738it [7:12:31,  4.12s/it][skip] fail to process 'extension.js' with RecursionError - maximum recursion depth exceeded\n",
      "[skip] fail to process 'extension.js' with RecursionError - maximum recursion depth exceeded\n",
      "Deal with .js: process repo oslabs-beta@Ludwig at commit 61cf, processed : : 1738it [7:16:11,  4.12s/it][skip] fail to process 'extension.js' with RecursionError - maximum recursion depth exceeded\n",
      "[skip] fail to process 'extension.js' with RecursionError - maximum recursion depth exceeded\n",
      "Deal with .js: process repo oslabs-beta@Ludwig at commit bf20, processed : : 1738it [7:19:50,  4.12s/it][skip] fail to process 'extension.js' with RecursionError - maximum recursion depth exceeded\n",
      "[skip] fail to process 'extension.js' with RecursionError - maximum recursion depth exceeded\n",
      "Deal with .js: process repo oslabs-beta@Ludwig at commit fa3e, processed : : 1738it [7:23:38,  4.12s/it][skip] fail to process 'extension.js' with RecursionError - maximum recursion depth exceeded\n",
      "[skip] fail to process 'extension.js' with RecursionError - maximum recursion depth exceeded\n",
      "Deal with .js: process repo oslabs-beta@Ludwig at commit fa69, processed : : 1738it [7:27:19,  4.12s/it][skip] fail to process 'extension.js' with RecursionError - maximum recursion depth exceeded\n",
      "[skip] fail to process 'extension.js' with RecursionError - maximum recursion depth exceeded\n",
      "Deal with .js: process repo oslabs-beta@Ludwig at commit b75b, processed : : 1738it [7:30:59,  4.12s/it][skip] fail to process 'extension.js' with RecursionError - maximum recursion depth exceeded\n",
      "[skip] fail to process 'extension.js' with RecursionError - maximum recursion depth exceeded\n",
      "Deal with .js: process repo oslabs-beta@Ludwig at commit d73d, processed : : 1738it [7:34:49,  4.12s/it][skip] fail to process 'extension.js' with RecursionError - maximum recursion depth exceeded\n",
      "[skip] fail to process 'extension.js' with RecursionError - maximum recursion depth exceeded\n",
      "Deal with .js: process repo oslabs-beta@Ludwig at commit c73a, processed : : 1738it [7:38:27,  4.12s/it][skip] fail to process 'extension.js' with RecursionError - maximum recursion depth exceeded\n",
      "[skip] fail to process 'extension.js' with RecursionError - maximum recursion depth exceeded\n",
      "Deal with .js: process repo oslabs-beta@Ludwig at commit 5dbc, processed : : 1738it [7:42:06,  4.12s/it][skip] fail to process 'extension.js' with RecursionError - maximum recursion depth exceeded\n",
      "[skip] fail to process 'extension.js' with RecursionError - maximum recursion depth exceeded\n",
      "Deal with .js: process repo oslabs-beta@Ludwig at commit ef34, processed : : 1738it [7:45:44,  4.12s/it][skip] fail to process 'extension.js' with RecursionError - maximum recursion depth exceeded\n",
      "[skip] fail to process 'extension.js' with RecursionError - maximum recursion depth exceeded\n",
      "Deal with .js: process repo oslabs-beta@Ludwig at commit 1f9d, processed : : 1738it [7:49:24,  4.12s/it][skip] fail to process 'extension.js' with RecursionError - maximum recursion depth exceeded\n",
      "[skip] fail to process 'extension.js' with RecursionError - maximum recursion depth exceeded\n",
      "Deal with .js: process repo oslabs-beta@Ludwig at commit bd82, processed : : 1738it [7:53:03,  4.12s/it][skip] fail to process 'extension.js' with RecursionError - maximum recursion depth exceeded\n",
      "[skip] fail to process 'extension.js' with RecursionError - maximum recursion depth exceeded\n",
      "Deal with .js: process repo oslabs-beta@Ludwig at commit 3a3e, processed : : 1738it [7:56:42,  4.12s/it][skip] fail to process 'extension.js' with RecursionError - maximum recursion depth exceeded\n",
      "[skip] fail to process 'extension.js' with RecursionError - maximum recursion depth exceeded\n",
      "Deal with .js: process repo oslabs-beta@Ludwig at commit 299a, processed : : 1738it [8:00:23,  4.12s/it][skip] fail to process 'extension.js' with RecursionError - maximum recursion depth exceeded\n",
      "[skip] fail to process 'extension.js' with RecursionError - maximum recursion depth exceeded\n",
      "Deal with .js: process repo oslabs-beta@Ludwig at commit 9fd2, processed : : 1738it [8:04:02,  4.12s/it][skip] fail to process 'extension.js' with RecursionError - maximum recursion depth exceeded\n",
      "[skip] fail to process 'extension.js' with RecursionError - maximum recursion depth exceeded\n",
      "Deal with .js: process repo oslabs-beta@Ludwig at commit af87, processed : : 1738it [8:07:41,  4.12s/it][skip] fail to process 'extension.js' with RecursionError - maximum recursion depth exceeded\n",
      "[skip] fail to process 'extension.js' with RecursionError - maximum recursion depth exceeded\n",
      "Deal with .js: process repo oslabs-beta@Ludwig at commit 6f53, processed : : 1738it [8:11:21,  4.12s/it][skip] fail to process 'extension.js' with RecursionError - maximum recursion depth exceeded\n",
      "[skip] fail to process 'extension.js' with RecursionError - maximum recursion depth exceeded\n",
      "Deal with .js: process repo oslabs-beta@Ludwig at commit d280, processed : : 1738it [8:15:03,  4.12s/it][skip] fail to process 'extension.js' with RecursionError - maximum recursion depth exceeded\n",
      "[skip] fail to process 'extension.js' with RecursionError - maximum recursion depth exceeded\n",
      "Deal with .js: process repo oslabs-beta@Ludwig at commit 994c, processed : : 1738it [8:18:41,  4.12s/it][skip] fail to process 'extension.js' with RecursionError - maximum recursion depth exceeded\n",
      "[skip] fail to process 'extension.js' with RecursionError - maximum recursion depth exceeded\n",
      "Deal with .js: process repo oslabs-beta@Ludwig at commit e475, processed : : 1738it [8:22:20,  4.12s/it][skip] fail to process 'extension.js' with RecursionError - maximum recursion depth exceeded\n",
      "[skip] fail to process 'extension.js' with RecursionError - maximum recursion depth exceeded\n",
      "Deal with .js: process repo oslabs-beta@Ludwig at commit 4f48, processed : : 1738it [8:25:59,  4.12s/it][skip] fail to process 'extension.js' with RecursionError - maximum recursion depth exceeded\n",
      "[skip] fail to process 'extension.js' with RecursionError - maximum recursion depth exceeded\n",
      "Deal with .js: process repo oslabs-beta@Ludwig at commit 6275, processed : : 1738it [8:29:37,  4.12s/it][skip] fail to process 'extension.js' with RecursionError - maximum recursion depth exceeded\n",
      "[skip] fail to process 'extension.js' with RecursionError - maximum recursion depth exceeded\n",
      "Deal with .js: process repo oslabs-beta@Ludwig at commit 1f1b, processed : : 1738it [8:33:39,  4.12s/it][skip] fail to process 'extension.js' with RecursionError - maximum recursion depth exceeded\n",
      "[skip] fail to process 'extension.js' with RecursionError - maximum recursion depth exceeded\n",
      "Deal with .js: process repo oslabs-beta@Ludwig at commit fcf1, processed : : 1738it [8:37:19,  4.12s/it][skip] fail to process 'extension.js' with RecursionError - maximum recursion depth exceeded\n",
      "[skip] fail to process 'extension.js' with RecursionError - maximum recursion depth exceeded\n",
      "Deal with .js: process repo oslabs-beta@Ludwig at commit a530, processed : : 1738it [8:40:59,  4.12s/it][skip] fail to process 'extension.js' with RecursionError - maximum recursion depth exceeded\n",
      "[skip] fail to process 'extension.js' with RecursionError - maximum recursion depth exceeded\n",
      "Deal with .js: process repo oslabs-beta@Ludwig at commit 9f40, processed : : 1738it [8:44:39,  4.12s/it][skip] fail to process 'extension.js' with RecursionError - maximum recursion depth exceeded\n",
      "[skip] fail to process 'extension.js' with RecursionError - maximum recursion depth exceeded\n",
      "Deal with .js: process repo oslabs-beta@Ludwig at commit de04, processed : : 1738it [8:48:18,  4.12s/it][skip] fail to process 'extension.js' with RecursionError - maximum recursion depth exceeded\n",
      "[skip] fail to process 'extension.js' with RecursionError - maximum recursion depth exceeded\n",
      "Deal with .js: process repo oslabs-beta@Ludwig at commit 858e, processed : : 1738it [8:51:58,  4.12s/it][skip] fail to process 'extension.js' with RecursionError - maximum recursion depth exceeded\n",
      "[skip] fail to process 'extension.js' with RecursionError - maximum recursion depth exceeded\n",
      "Deal with .js: process repo oslabs-beta@Ludwig at commit 1b08, processed : : 1738it [8:55:37,  4.12s/it][skip] fail to process 'extension.js' with RecursionError - maximum recursion depth exceeded\n",
      "[skip] fail to process 'extension.js' with RecursionError - maximum recursion depth exceeded\n",
      "Deal with .js: process repo oslabs-beta@Ludwig at commit fb90, processed : : 1738it [8:59:17,  4.12s/it][skip] fail to process 'extension.js' with RecursionError - maximum recursion depth exceeded\n",
      "[skip] fail to process 'extension.js' with RecursionError - maximum recursion depth exceeded\n",
      "Deal with .js: process repo oslabs-beta@Ludwig at commit 4a78, processed : : 1738it [9:02:56,  4.12s/it][skip] fail to process 'extension.js' with RecursionError - maximum recursion depth exceeded\n",
      "[skip] fail to process 'extension.js' with RecursionError - maximum recursion depth exceeded\n",
      "Deal with .js: process repo oslabs-beta@Ludwig at commit aff5, processed : : 1738it [9:06:36,  4.12s/it][skip] fail to process 'extension.js' with RecursionError - maximum recursion depth exceeded\n",
      "[skip] fail to process 'extension.js' with RecursionError - maximum recursion depth exceeded\n",
      "Deal with .js: process repo oslabs-beta@Ludwig at commit bd4a, processed : : 1738it [9:10:15,  4.12s/it][skip] fail to process 'extension.js' with RecursionError - maximum recursion depth exceeded\n",
      "[skip] fail to process 'extension.js' with RecursionError - maximum recursion depth exceeded\n",
      "Deal with .js: process repo oslabs-beta@Ludwig at commit 74bf, processed : : 1738it [9:13:55,  4.12s/it][skip] fail to process 'extension.js' with RecursionError - maximum recursion depth exceeded\n",
      "[skip] fail to process 'extension.js' with RecursionError - maximum recursion depth exceeded\n",
      "Deal with .js: process repo oslabs-beta@Ludwig at commit b84b, processed : : 1738it [9:17:33,  4.12s/it][skip] fail to process 'extension.js' with RecursionError - maximum recursion depth exceeded\n",
      "[skip] fail to process 'extension.js' with RecursionError - maximum recursion depth exceeded\n",
      "Deal with .js: process repo oslabs-beta@Ludwig at commit f2fd, processed : : 1738it [9:21:12,  4.12s/it][skip] fail to process 'extension.js' with RecursionError - maximum recursion depth exceeded\n",
      "[skip] fail to process 'extension.js' with RecursionError - maximum recursion depth exceeded\n",
      "Deal with .js: process repo oslabs-beta@Ludwig at commit b004, processed : : 1738it [9:24:54,  4.12s/it][skip] fail to process 'extension.js' with RecursionError - maximum recursion depth exceeded\n",
      "Deal with .js: process repo oslabs-beta@Ludwig at commit ac02, processed : : 1738it [9:26:47,  4.12s/it][skip] fail to process 'extension.js' with RecursionError - maximum recursion depth exceeded\n",
      "Deal with .js: process repo oslabs-beta@Ludwig at commit 62a4, processed : : 1738it [9:28:39,  4.12s/it][skip] fail to process 'extension.js' with RecursionError - maximum recursion depth exceeded\n",
      "Deal with .js: process repo oslabs-beta@Ludwig at commit 591c, processed : : 1738it [9:30:34,  4.12s/it][skip] fail to process 'extension.js' with RecursionError - maximum recursion depth exceeded\n",
      "[skip] fail to process 'extension.js' with RecursionError - maximum recursion depth exceeded\n",
      "Deal with .js: process repo oslabs-beta@Ludwig at commit ae72, processed : : 1738it [9:34:17,  4.12s/it][skip] fail to process 'extension.js' with RecursionError - maximum recursion depth exceeded\n",
      "[skip] fail to process 'extension.js' with RecursionError - maximum recursion depth exceeded\n",
      "Deal with .js: process repo oslabs-beta@Ludwig at commit f8e0, processed : : 1738it [9:38:00,  4.12s/it][skip] fail to process 'extension.js' with RecursionError - maximum recursion depth exceeded\n",
      "[skip] fail to process 'extension.js' with RecursionError - maximum recursion depth exceeded\n",
      "Deal with .js: process repo oslabs-beta@Ludwig at commit d80a, processed : : 1738it [9:41:45,  4.12s/it][skip] fail to process 'extension.js' with RecursionError - maximum recursion depth exceeded\n",
      "[skip] fail to process 'extension.js' with RecursionError - maximum recursion depth exceeded\n",
      "Deal with .js: process repo oslabs-beta@Ludwig at commit da77, processed : : 1738it [9:45:29,  4.12s/it][skip] fail to process 'extension.js' with RecursionError - maximum recursion depth exceeded\n",
      "[skip] fail to process 'extension.js' with RecursionError - maximum recursion depth exceeded\n",
      "Deal with .js: process repo tahul@sfc-composer at commit 4048, processed : : 1767it [9:53:19, 18.52s/it]                            [skip] fail to process 'vue.worker-ed7fa2db.js' with RecursionError - maximum recursion depth exceeded\n",
      "Deal with .js: process repo wangbo777@mrdeer at commit 9298, processed : : 1943it [11:07:19, 20.61s/it]                                               \n"
     ]
    }
   ],
   "source": [
    "cur_chunk = []\n",
    "chunksize = 20\n",
    "\n",
    "bar = tqdm(github_metadata.itertuples(), total=len(github_metadata) - len(processed_names))\n",
    "for row in bar:\n",
    "    name = getattr(row, 'name')\n",
    "    lang = getattr(row, 'mainLanguage')\n",
    "    local_path = getattr(row, 'local_path')\n",
    "    url = getattr(row, 'url')\n",
    "    sha = getattr(row, 'sha')\n",
    "\n",
    "    if name in processed_names:\n",
    "        logger.info(f\"{name} has been processed, skip.\")\n",
    "        continue\n",
    "\n",
    "    try:\n",
    "        extension = langs[lang].extension\n",
    "        cur_commit_files_path = output_path + lang + \"/\" + name.replace(\"/\", \"@\") + \"_commits/\"\n",
    "        Path(cur_commit_files_path).mkdir(parents=True, exist_ok=True)\n",
    "        \n",
    "        result = download_all_commits(local_path, extension, bar=bar, output_path=cur_commit_files_path)\n",
    "        if result is None:\n",
    "            continue\n",
    "\n",
    "        cur_output_path = output_path + lang + \"/\" + name.replace(\"/\", \"@\") + \"_commits.jsonl\"  \n",
    "            \n",
    "        data = {\n",
    "            \"name\": name,\n",
    "            \"mainLanguage\": lang,\n",
    "            \"url\": url,\n",
    "            \"local_path\": local_path,\n",
    "            \"sha\": sha,\n",
    "            \"commit_path\": cur_output_path,\n",
    "            \"commit_file_path\": cur_commit_files_path,\n",
    "            \"num_methods\": len(result)\n",
    "        }\n",
    "    except Exception as e:\n",
    "        print(e)\n",
    "        logger.warning(f\"GitHub exception with repo {name}, {repr(e)}\")\n",
    "        result = None\n",
    "        data = {\"name\": name, \"mainLanguage\": lang, \"url\": url, \"local_path\": local_path, \"sha\": sha, \n",
    "                \"commit_path\": None, \"commit_file_path\": None, \"num_methods\": None}\n",
    "\n",
    "    if result is not None:\n",
    "        with jsonlines.open(cur_output_path, \"w\") as writer:\n",
    "            writer.write_all(result)\n",
    "    \n",
    "    cur_chunk.append(data)\n",
    "    if len(cur_chunk) > chunksize:\n",
    "        with jsonlines.open(commit_meta_path, \"a\") as writer:\n",
    "            writer.write_all(cur_chunk)\n",
    "            cur_chunk = []\n",
    "\n",
    "if cur_chunk:\n",
    "    with jsonlines.open(commit_meta_path, \"a\") as writer:\n",
    "        writer.write_all(cur_chunk)\n",
    "        cur_chunk = []"
   ]
  },
  {
   "cell_type": "code",
   "execution_count": 33,
   "metadata": {},
   "outputs": [
    {
     "data": {
      "text/html": [
       "<div>\n",
       "<style scoped>\n",
       "    .dataframe tbody tr th:only-of-type {\n",
       "        vertical-align: middle;\n",
       "    }\n",
       "\n",
       "    .dataframe tbody tr th {\n",
       "        vertical-align: top;\n",
       "    }\n",
       "\n",
       "    .dataframe thead th {\n",
       "        text-align: right;\n",
       "    }\n",
       "</style>\n",
       "<table border=\"1\" class=\"dataframe\">\n",
       "  <thead>\n",
       "    <tr style=\"text-align: right;\">\n",
       "      <th></th>\n",
       "      <th>name</th>\n",
       "      <th>commit_file_path</th>\n",
       "    </tr>\n",
       "  </thead>\n",
       "  <tbody>\n",
       "    <tr>\n",
       "      <th>1004</th>\n",
       "      <td>zongzibinbin/mallchat</td>\n",
       "      <td>../data/commits/Java/zongzibinbin@mallchat_com...</td>\n",
       "    </tr>\n",
       "    <tr>\n",
       "      <th>1005</th>\n",
       "      <td>alipay/fury</td>\n",
       "      <td>../data/commits/Java/alipay@fury_commits/</td>\n",
       "    </tr>\n",
       "    <tr>\n",
       "      <th>1006</th>\n",
       "      <td>aress31/burpgpt</td>\n",
       "      <td>../data/commits/Java/aress31@burpgpt_commits/</td>\n",
       "    </tr>\n",
       "    <tr>\n",
       "      <th>1007</th>\n",
       "      <td>hncboy/ai-beehive</td>\n",
       "      <td>../data/commits/Java/hncboy@ai-beehive_commits/</td>\n",
       "    </tr>\n",
       "    <tr>\n",
       "      <th>1008</th>\n",
       "      <td>hncboy/chatgpt-web-java</td>\n",
       "      <td>../data/commits/Java/hncboy@chatgpt-web-java_c...</td>\n",
       "    </tr>\n",
       "    <tr>\n",
       "      <th>...</th>\n",
       "      <td>...</td>\n",
       "      <td>...</td>\n",
       "    </tr>\n",
       "    <tr>\n",
       "      <th>1349</th>\n",
       "      <td>PeytonPlayz595/0.30-WebGL</td>\n",
       "      <td>../data/commits/Java/PeytonPlayz595@0.30-WebGL...</td>\n",
       "    </tr>\n",
       "    <tr>\n",
       "      <th>1350</th>\n",
       "      <td>zyyzyykk/kkTerminal</td>\n",
       "      <td>../data/commits/Java/zyyzyykk@kkTerminal_commits/</td>\n",
       "    </tr>\n",
       "    <tr>\n",
       "      <th>1351</th>\n",
       "      <td>sivaprasadreddy/spring-boot-tutorials-blog-series</td>\n",
       "      <td>../data/commits/Java/sivaprasadreddy@spring-bo...</td>\n",
       "    </tr>\n",
       "    <tr>\n",
       "      <th>1352</th>\n",
       "      <td>RussianInvestments/invest-api-java-sdk</td>\n",
       "      <td>../data/commits/Java/RussianInvestments@invest...</td>\n",
       "    </tr>\n",
       "    <tr>\n",
       "      <th>1353</th>\n",
       "      <td>aicyber2023/ai-customer-service-admin</td>\n",
       "      <td>../data/commits/Java/aicyber2023@ai-customer-s...</td>\n",
       "    </tr>\n",
       "  </tbody>\n",
       "</table>\n",
       "<p>350 rows × 2 columns</p>\n",
       "</div>"
      ],
      "text/plain": [
       "                                                   name  \\\n",
       "1004                              zongzibinbin/mallchat   \n",
       "1005                                        alipay/fury   \n",
       "1006                                    aress31/burpgpt   \n",
       "1007                                  hncboy/ai-beehive   \n",
       "1008                            hncboy/chatgpt-web-java   \n",
       "...                                                 ...   \n",
       "1349                          PeytonPlayz595/0.30-WebGL   \n",
       "1350                                zyyzyykk/kkTerminal   \n",
       "1351  sivaprasadreddy/spring-boot-tutorials-blog-series   \n",
       "1352             RussianInvestments/invest-api-java-sdk   \n",
       "1353              aicyber2023/ai-customer-service-admin   \n",
       "\n",
       "                                       commit_file_path  \n",
       "1004  ../data/commits/Java/zongzibinbin@mallchat_com...  \n",
       "1005          ../data/commits/Java/alipay@fury_commits/  \n",
       "1006      ../data/commits/Java/aress31@burpgpt_commits/  \n",
       "1007    ../data/commits/Java/hncboy@ai-beehive_commits/  \n",
       "1008  ../data/commits/Java/hncboy@chatgpt-web-java_c...  \n",
       "...                                                 ...  \n",
       "1349  ../data/commits/Java/PeytonPlayz595@0.30-WebGL...  \n",
       "1350  ../data/commits/Java/zyyzyykk@kkTerminal_commits/  \n",
       "1351  ../data/commits/Java/sivaprasadreddy@spring-bo...  \n",
       "1352  ../data/commits/Java/RussianInvestments@invest...  \n",
       "1353  ../data/commits/Java/aicyber2023@ai-customer-s...  \n",
       "\n",
       "[350 rows x 2 columns]"
      ]
     },
     "execution_count": 33,
     "metadata": {},
     "output_type": "execute_result"
    }
   ],
   "source": [
    "import pandas as pd\n",
    "\n",
    "commit_meta_path = \"./metadata/repo_commit_metadata.jsonl\"\n",
    "commit_meta = pd.read_json(commit_meta_path, orient=\"records\", lines=True)\n",
    "\n",
    "filtered_df = pd.read_json(\"./metadata/filtered_ghs_results_05_mar_2023.jsonl\", orient=\"records\", lines=True)\n",
    "\n",
    "filtered_df = filtered_df.merge(commit_meta, on=[\"name\", 'mainLanguage'], how=\"inner\")\n",
    "\n",
    "filtered_df = filtered_df.loc[(~filtered_df.local_path.isna()) & (filtered_df['mainLanguage'] == 'Java')]\n",
    "#df.sort_values(by=['A', 'B'], ascending=[True, False])\n",
    "filtered_df.sort_values(by=['stargazers'], ascending=True, ignore_index=True)\n",
    "filtered_df[['name', 'commit_file_path']]"
   ]
  },
  {
   "cell_type": "code",
   "execution_count": 14,
   "metadata": {},
   "outputs": [
    {
     "data": {
      "text/html": [
       "<div>\n",
       "<style scoped>\n",
       "    .dataframe tbody tr th:only-of-type {\n",
       "        vertical-align: middle;\n",
       "    }\n",
       "\n",
       "    .dataframe tbody tr th {\n",
       "        vertical-align: top;\n",
       "    }\n",
       "\n",
       "    .dataframe thead th {\n",
       "        text-align: right;\n",
       "    }\n",
       "</style>\n",
       "<table border=\"1\" class=\"dataframe\">\n",
       "  <thead>\n",
       "    <tr style=\"text-align: right;\">\n",
       "      <th></th>\n",
       "      <th>num_repos</th>\n",
       "      <th>num_methods</th>\n",
       "    </tr>\n",
       "    <tr>\n",
       "      <th>mainLanguage</th>\n",
       "      <th></th>\n",
       "      <th></th>\n",
       "    </tr>\n",
       "  </thead>\n",
       "  <tbody>\n",
       "    <tr>\n",
       "      <th>Java</th>\n",
       "      <td>323</td>\n",
       "      <td>841.018576</td>\n",
       "    </tr>\n",
       "    <tr>\n",
       "      <th>JavaScript</th>\n",
       "      <td>208</td>\n",
       "      <td>938.663462</td>\n",
       "    </tr>\n",
       "    <tr>\n",
       "      <th>Python</th>\n",
       "      <td>295</td>\n",
       "      <td>652.983051</td>\n",
       "    </tr>\n",
       "    <tr>\n",
       "      <th>TypeScript</th>\n",
       "      <td>284</td>\n",
       "      <td>432.580986</td>\n",
       "    </tr>\n",
       "  </tbody>\n",
       "</table>\n",
       "</div>"
      ],
      "text/plain": [
       "              num_repos  num_methods\n",
       "mainLanguage                        \n",
       "Java                323   841.018576\n",
       "JavaScript          208   938.663462\n",
       "Python              295   652.983051\n",
       "TypeScript          284   432.580986"
      ]
     },
     "execution_count": 14,
     "metadata": {},
     "output_type": "execute_result"
    }
   ],
   "source": [
    "commit_meta = pd.read_json(commit_meta_path, orient=\"records\", lines=True)\n",
    "commit_meta = commit_meta[(commit_meta['num_methods'] > 50) & (commit_meta['num_methods'] < 1000)]\n",
    "\n",
    "commit_meta.groupby(\"mainLanguage\").agg(num_repos=(\"name\", \"count\"), num_methods=(\"num_methods\", \"mean\"))"
   ]
  },
  {
   "cell_type": "code",
   "execution_count": null,
   "metadata": {},
   "outputs": [],
   "source": []
  }
 ],
 "metadata": {
  "kernelspec": {
   "display_name": "Python 3 (ipykernel)",
   "language": "python",
   "name": "python3"
  },
  "language_info": {
   "codemirror_mode": {
    "name": "ipython",
    "version": 3
   },
   "file_extension": ".py",
   "mimetype": "text/x-python",
   "name": "python",
   "nbconvert_exporter": "python",
   "pygments_lexer": "ipython3",
   "version": "3.10.13"
  }
 },
 "nbformat": 4,
 "nbformat_minor": 4
}
